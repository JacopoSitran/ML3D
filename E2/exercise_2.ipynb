{
 "cells": [
  {
   "cell_type": "markdown",
   "metadata": {
    "collapsed": true,
    "id": "9fIR3Tsg8_D5"
   },
   "source": [
    "# Exercise 2: Shape Classification and Segmentation\n",
    "\n",
    "**Submission Deadline**: 26.05.2021, 23:55\n",
    "\n",
    "In this exercise, we will dive into Machine Learning on 3D shapes by taking a look at shape classification and segmentation."
   ]
  },
  {
   "cell_type": "markdown",
   "metadata": {
    "id": "iCwZVHix8_D7"
   },
   "source": [
    "## 2.0. Running this notebook\n",
    "We recommend running this notebook on a cuda compatible local gpu. You can also run training on cpu, it will just take longer.\n",
    "\n",
    "We describe two options for executing the training parts of this exercise below: Using Google Colab or running it locally on your machine. If you are not planning on using Colab, just skip forward to Local Execution.\n",
    "\n",
    "### Google Colab\n",
    "\n",
    "If you don't have access to gpu and don't wish to train on CPU, you can use Google Colab. However, we experienced the issue that inline visualization of shapes or inline images didn't work on colab, so just keep that in mind.\n",
    "What you can also do is only train networks on colab, download the checkpoint, and visualize inference locally.\n",
    "\n",
    "In case you're using Google Colab, you can upload the exercise folder (containing `exercise_2.ipynb`, directory `exercise_2` and the file `requirements.txt`) as `3d-machine-learning` to google drive (make sure you don't upload extracted datasets files).\n",
    "Additionally you'd need to open the notebook `exercise_2.ipynb` in Colab using `File > Open Notebook > Upload`.\n",
    "\n",
    "Next you'll need to run these two cells for setting up the environment. Before you do that make sure your instance has a GPU."
   ]
  },
  {
   "cell_type": "code",
   "execution_count": null,
   "metadata": {
    "id": "R3Xi2T0P8_D8",
    "pycharm": {
     "name": "#%%\n"
    }
   },
   "outputs": [],
   "source": [
    "import os\n",
    "from google.colab import drive\n",
    "drive.mount('/content/drive', force_remount=True)\n",
    "\n",
    "# We assume you uploaded the exercise folder in root Google Drive folder\n",
    "\n",
    "!cp -r /content/drive/MyDrive/3d-machine-learning 3d-machine-learning/\n",
    "os.chdir('/content/3d-machine-learning/')\n",
    "print('Installing requirements')\n",
    "!pip install -r requirements.txt\n",
    "\n",
    "# Make sure you restart runtime when directed by Colab"
   ]
  },
  {
   "cell_type": "markdown",
   "metadata": {
    "id": "TlIYFGUO8_D9"
   },
   "source": [
    "Run this cell after restarting your colab runtime"
   ]
  },
  {
   "cell_type": "code",
   "execution_count": 1,
   "metadata": {
    "colab": {
     "base_uri": "https://localhost:8080/",
     "height": 0
    },
    "id": "3SvJKDTq8_D9",
    "outputId": "e72ef409-ba53-4164-ae07-d0bc1a48c213",
    "pycharm": {
     "name": "#%%\n"
    }
   },
   "outputs": [
    {
     "ename": "FileNotFoundError",
     "evalue": "[Errno 2] No such file or directory: '/content/3d-machine-learning/'",
     "output_type": "error",
     "traceback": [
      "\u001b[0;31m---------------------------------------------------------------------------\u001b[0m",
      "\u001b[0;31mFileNotFoundError\u001b[0m                         Traceback (most recent call last)",
      "\u001b[0;32m<ipython-input-1-065e50ea1351>\u001b[0m in \u001b[0;36m<module>\u001b[0;34m\u001b[0m\n\u001b[1;32m      2\u001b[0m \u001b[0;32mimport\u001b[0m \u001b[0msys\u001b[0m\u001b[0;34m\u001b[0m\u001b[0;34m\u001b[0m\u001b[0m\n\u001b[1;32m      3\u001b[0m \u001b[0;32mimport\u001b[0m \u001b[0mtorch\u001b[0m\u001b[0;34m\u001b[0m\u001b[0;34m\u001b[0m\u001b[0m\n\u001b[0;32m----> 4\u001b[0;31m \u001b[0mos\u001b[0m\u001b[0;34m.\u001b[0m\u001b[0mchdir\u001b[0m\u001b[0;34m(\u001b[0m\u001b[0;34m'/content/3d-machine-learning/'\u001b[0m\u001b[0;34m)\u001b[0m\u001b[0;34m\u001b[0m\u001b[0;34m\u001b[0m\u001b[0m\n\u001b[0m\u001b[1;32m      5\u001b[0m \u001b[0msys\u001b[0m\u001b[0;34m.\u001b[0m\u001b[0mpath\u001b[0m\u001b[0;34m.\u001b[0m\u001b[0minsert\u001b[0m\u001b[0;34m(\u001b[0m\u001b[0;36m1\u001b[0m\u001b[0;34m,\u001b[0m \u001b[0;34m\"/content/3d-machine-learning/\"\u001b[0m\u001b[0;34m)\u001b[0m\u001b[0;34m\u001b[0m\u001b[0;34m\u001b[0m\u001b[0m\n\u001b[1;32m      6\u001b[0m \u001b[0mprint\u001b[0m\u001b[0;34m(\u001b[0m\u001b[0;34m'CUDA availability:'\u001b[0m\u001b[0;34m,\u001b[0m \u001b[0mtorch\u001b[0m\u001b[0;34m.\u001b[0m\u001b[0mcuda\u001b[0m\u001b[0;34m.\u001b[0m\u001b[0mis_available\u001b[0m\u001b[0;34m(\u001b[0m\u001b[0;34m)\u001b[0m\u001b[0;34m)\u001b[0m\u001b[0;34m\u001b[0m\u001b[0;34m\u001b[0m\u001b[0m\n",
      "\u001b[0;31mFileNotFoundError\u001b[0m: [Errno 2] No such file or directory: '/content/3d-machine-learning/'"
     ]
    }
   ],
   "source": [
    "import os\n",
    "import sys\n",
    "import torch\n",
    "os.chdir('/content/3d-machine-learning/')\n",
    "sys.path.insert(1, \"/content/3d-machine-learning/\")\n",
    "print('CUDA availability:', torch.cuda.is_available())"
   ]
  },
  {
   "cell_type": "markdown",
   "metadata": {
    "id": "bDD8MXIM8_D-"
   },
   "source": [
    "### Local Execution\n",
    "\n",
    "If you run this notebook locally, you have to first install the python dependiencies again. They are the same as for exercise 1 so you can re-use the environment you used last time. If you use [poetry](https://python-poetry.org), you can also simply re-install everything (`poetry install`) and then run this notebook via `poetry run jupyter notebook`."
   ]
  },
  {
   "cell_type": "markdown",
   "metadata": {
    "id": "h-rzzYLB8_D-"
   },
   "source": [
    "### Imports\n",
    "\n",
    "The following imports should work regardless of whether you are using Colab or local execution."
   ]
  },
  {
   "cell_type": "code",
   "execution_count": 2,
   "metadata": {
    "id": "wG72Bghr8_D-"
   },
   "outputs": [],
   "source": [
    "%load_ext autoreload\n",
    "%autoreload 2\n",
    "from pathlib import Path\n",
    "import numpy as np\n",
    "import matplotlib as plt\n",
    "import k3d\n",
    "import trimesh\n",
    "import torch"
   ]
  },
  {
   "cell_type": "markdown",
   "metadata": {
    "id": "9uqFlD-38_D-"
   },
   "source": [
    "Use the next cell to test whether a GPU was detected by pytorch."
   ]
  },
  {
   "cell_type": "code",
   "execution_count": 2,
   "metadata": {
    "colab": {
     "base_uri": "https://localhost:8080/",
     "height": 0
    },
    "id": "GEGvuhwF8_D_",
    "outputId": "a6a65533-384d-4b7e-9b8b-44793b4fe2ef"
   },
   "outputs": [
    {
     "data": {
      "text/plain": [
       "True"
      ]
     },
     "execution_count": 2,
     "metadata": {},
     "output_type": "execute_result"
    }
   ],
   "source": [
    "torch.cuda.is_available()"
   ]
  },
  {
   "cell_type": "markdown",
   "metadata": {
    "id": "w3vr6FO_8_D_"
   },
   "source": [
    "## 2.1. ShapeNet Terms of Use\n",
    "\n",
    "We provide pre-processed shapes from the [ShapeNet](//shapenet.org) database for this exercise. ShapeNet is an ongoing effort to establish a richly-annotated, large-scale dataset of 3D shapes and is a collaborative effort between researchers at Princeton, Stanford and TTIC.\n",
    "\n",
    "<img src=\"exercise_2/images/shapenet.png\" alt=\"shapenet\" style=\"width: 512px;\"/>\n",
    "\n",
    "In order to be able to use the data, we ask you to read and agree to their Terms of Use as stated below (this is a requirement for passing this exercise):\n",
    "\n",
    "1. Researcher shall use the Database only for non-commercial research and educational purposes.\n",
    "2. Princeton University and Stanford University make no representations or warranties regarding the Database, including but not limited to warranties of non-infringement or fitness for a particular purpose.\n",
    "3. Researcher accepts full responsibility for his or her use of the Database and shall defend and indemnify Princeton University and Stanford University, including their employees, Trustees, officers and agents, against any and all claims arising from Researcher's use of the Database, including but not limited to Researcher's use of any copies of copyrighted 3D models that he or she may create from the Database.\n",
    "4. Researcher may provide research associates and colleagues with access to the Database provided that they first agree to be bound by these terms and conditions.\n",
    "5. Princeton University and Stanford University reserve the right to terminate Researcher's access to the Database at any time.\n",
    "6. If Researcher is employed by a for-profit, commercial entity, Researcher's employer shall also be bound by these terms and conditions, and Researcher hereby represents that he or she is fully authorized to enter into this agreement on behalf of such employer.\n",
    "7. The law of the State of New Jersey shall apply to all disputes under this agreement.\n",
    "\n",
    "To agree, simply type `I agree to the Terms of Use` in the next code cell."
   ]
  },
  {
   "cell_type": "code",
   "execution_count": 4,
   "metadata": {
    "id": "IcfBEaxm8_D_"
   },
   "outputs": [],
   "source": [
    "# I agree to the Terms of Use"
   ]
  },
  {
   "cell_type": "markdown",
   "metadata": {
    "id": "gGmkYT2N8_EA"
   },
   "source": [
    "## 2.2. A simple 3D CNN with pytorch\n",
    "\n",
    "Here, we will create a very simple 3D Convolutional Neural Network on some toy data. This is meant as a quick introduction into the pytorch framework if you haven't used it yet. It will cover everything you need to know for the following parts of the exercise; if you want to go into a bit more detail about the framework, a good place to start is the official [pytorch quickstart tutorial](https://pytorch.org/tutorials/beginner/basics/quickstart_tutorial.html).\n",
    "\n",
    "A very useful resource if you want to know more about a certain class or function are the [official docs](https://pytorch.org/docs/stable/index.html). Take a minute to look at the documentation of a [Tensor](https://pytorch.org/docs/stable/tensors.html?highlight=tensor#torch.Tensor) which is the data structure pytorch uses throughout their APIs. It is comparable to a numpy array, with added functionality such as the ability to move seamlessly between cpu host memory and cuda device memory or the integrated autograd functionality for automatic differentiation. Most importantly, you can create a tensor from a numpy array with `torch.from_numpy(array)` and the other way around with `array = tensor.numpy()`.\n",
    "\n",
    "Our objective with this 3D CNN is to simply classify if a given SDF is containing a sphere or a torus. The data is generated the same way we did it in the last exercise (we randomize the shape parameters a bit so the task is not too trivial). Each such sample has a scalar label associated with it, either 0 or 1, depending on the shape it contains.\n",
    "\n",
    "All of the implementation in this part will take place in `exercise_2/simple_nn.py`. This makes sense for now but note that we would usually spread things over multiple different files like in the following exercise parts.\n",
    "\n",
    "The important bits we need for every training in pytorch are:\n",
    "1. The **dataset** implementation. This is a class responsible for providing the data used by the training procedure sample-by-sample. In its simplest form, it just loads data samples (eg. point clouds or voxel grids) from disk. However, it is usually also used to transform raw data from disk into the correct format and to apply various kinds of augmentations.\n",
    "2. The network definition (\"**model**\") that we want to train. It specifies the network structure (number and type of layers, activation functions, normalization layers etc.) as well as how exactly input data is processed.\n",
    "3. The **loss function**: For classification, this is usually a Cross Entropy Loss; we will also see reconstruction losses like l1 and l2 in exercise 3.\n",
    "4. The **optimizer**: Usually chosen from a set of pre-defined classes like SGD or ADAM.\n",
    "5. The **training loop**: For each batch of data, it does the following: Loads data from the dataloader, passes it through the model (\"forward pass\"), computes the loss, calculates the gradients (\"backward pass\"), and finally, adjusts the network weights using the optimizer.\n",
    "\n",
    "Let's walk through everything step-by-step:"
   ]
  },
  {
   "cell_type": "markdown",
   "metadata": {
    "id": "NDxH9xnw8_EA"
   },
   "source": [
    "### (a) Dataset\n",
    "\n",
    "We start by implementing the data source, which is called `Dataset` in pytorch. Take a look at the `SimpleDataset` class, it contains everything we have to implement to make it work:\n",
    "1. The `__init__` function that takes paramters and prepares the dataset by setting paths etc. Here, the one thing you always have to do is to load at least a list of samples you want to use - they don't have to be loaded from disk yet, but you need to know which and how many samples there are. This usually also depends on the current split - you use a different set of samples for training than for validation or testing.\n",
    "2. The `__len__` function that returns the total number of samples. In most cases, this will simply be the length of the list of samples you prepared in `__init__`.\n",
    "3. The `__getitem__` function. This is where the actual dataloading takes place. The function gets an index between 0 and the length you returned with `__len__`. Your job is then to return some data corresponding to the index. You do not need to worry about putting data onto the GPU here yet; instead, you load the data and return a tuple containing numpy arrays and other data like sample ids you might need in your training loop. Overall, you should take the index parameter in this function, find the sample id it belongs to, load that data, and then return it in a format that can be used in the training loop.\n",
    "\n",
    "Note that it is also fine to load all data into a list in the `__init__` function for small datasets like our toy dataset in this exercise part. You would then just index this pre-loaded data in your `__getitem__` function.\n",
    "\n",
    "Add and implement functions `__init__`, `__len__`, and `__getitem__` in class `SimpleDataset`. \n",
    "\n",
    "First, implement `__init__`: It takes a single parameter (called `split`) that determines if we are using train or val split at the moment. Based on that, it should generate toy data: 4096 samples if the split is train and 1024 if it is val. Use `generate_toy_data` from `exercise_2/util/toy_data.py` for this which generates two numpy arrays: The first one containing sphere and torus SDFs generated with randomized parameters and the second one classification labels, a 0 if the corresponding SDF in the first array is a sphere and 1 if it is a torus.\n",
    "\n",
    "Then, implement `__len__` by simply returning the length of the data you generated in `__init__`.\n",
    "\n",
    "Lastly, implement `__getitem__` which takes an integer index and returns a tuple: A numpy array containing the input SDF volume as generated by `generate_toy_data` before and a scalar value that represents the target class label for this volume.\n",
    "\n",
    "Note: You have to add an additional dimension of size 1 to the input volume you return in `__getitem__` to make everything work later on, i.e. instead of returning a numpy array of shape (32, 32, 32), you should return an array of shape (1, 32, 32, 32).\n",
    "\n",
    "Test your implementation with the checks below:"
   ]
  },
  {
   "cell_type": "code",
   "execution_count": 5,
   "metadata": {
    "colab": {
     "base_uri": "https://localhost:8080/",
     "height": 0
    },
    "id": "FqWiBhbG8_EB",
    "outputId": "94d34e85-be6b-4d49-ee98-a597694ae872"
   },
   "outputs": [
    {
     "name": "stdout",
     "output_type": "stream",
     "text": [
      "Generating toy data ...\n",
      "Generating toy data ...\n",
      "Length of train set: 4096\n",
      "Length of val set: 1024\n",
      "(1, 32, 32, 32)\n",
      "Class = 0\n",
      "(1, 32, 32, 32)\n",
      "Class = 1\n"
     ]
    }
   ],
   "source": [
    "from exercise_2.simple_nn import SimpleDataset\n",
    "\n",
    "# Create datasets with train and val splits\n",
    "train_dataset = SimpleDataset('train')\n",
    "val_dataset = SimpleDataset('val')\n",
    "\n",
    "# Test lengths\n",
    "print(f'Length of train set: {len(train_dataset)}')  # expected output: 4096\n",
    "print(f'Length of val set: {len(val_dataset)}')  # expected output: 1024\n",
    "\n",
    "# Get sample at index 0\n",
    "train_sample = train_dataset[0]\n",
    "print(train_sample[0].shape)  # Expected output (1, 32, 32, 32) (the leading 1 is important for later)\n",
    "print(f\"Class = {train_sample[1]}\")  # Expected output: Scalar value 0\n",
    "val_sample = val_dataset[-1]\n",
    "print(val_sample[0].shape)  # Expected output (1, 32, 32, 32) (the leading 1 is important for later)\n",
    "print(f\"Class = {val_sample[1]}\")  # Expected output: Scalar value 1"
   ]
  },
  {
   "cell_type": "code",
   "execution_count": 6,
   "metadata": {
    "colab": {
     "base_uri": "https://localhost:8080/",
     "height": 0
    },
    "id": "52Sz1Azy8_EB",
    "outputId": "d67e3640-86be-43a2-fe4f-48cf031313d4"
   },
   "outputs": [
    {
     "name": "stdout",
     "output_type": "stream",
     "text": [
      "Creating SDF visualization for 32^3 grid ...\n",
      "Exported to /content/3d-machine-learning/toy_data.ply\n"
     ]
    }
   ],
   "source": [
    "from exercise_2.util.visualization import visualize_sdf\n",
    "\n",
    "train_sample = train_dataset[0]\n",
    "visualize_sdf(train_sample[0].squeeze(0), filename=Path.cwd() / 'toy_data.ply')"
   ]
  },
  {
   "cell_type": "markdown",
   "metadata": {
    "id": "HYjJL-Nv8_EC"
   },
   "source": [
    "### (b) Model\n",
    "The model is defined in class `SimpleModel`. Two functions are important here: `__init__` which sets up the architecture by instantiating layers with the correct parameters and adapting them to possible input parameters and `forward` which takes an input tensor (we call it `x` here). The output of `forward` is another tensor that contains the result of the network - in our case, this is a vector of logits which will then be used for classification. It could also be a volume of labels if you do segmentation or a volume of the same size as the input if you do reconstruction.\n",
    "\n",
    "Analogous to `forward`, you could also define a custom `backward` function that describes how to calculate the gradients for your model. However, this is not necessary for most architectures as pytorch's autograd implementation takes care of all of that.\n",
    "\n",
    "For now, we will implement a very simple model: We stack together three 3D Convolution layers and have a fully connected layer at the end for classification. This is a schematic for the overall model structure:\n",
    "<img src=\"exercise_2/images/simplenn.png\" alt=\"simplenn_architecture\" style=\"width: 512px;\"/>\n",
    "\n",
    "Each layer starts with a 3d convolution, followed by a batch normalization layer and a ReLU activation function. We left the implementation of the first layer in there; your task is to fill out the missing parts in `__init__` for layers 2 and 3 (use the same parameters as for the first convolution: kernel size 4, stride 3, padding 1). Each convolution should double the number of feature channels, such that you get a volume of size 16 x 1 x 1 x 1 after layer 3. You also need to define the ReLU and the fully connected layer (for this, use `torch.nn.Linear` to reduce the number of dimensions from 16 to 2).\n",
    "\n",
    "In `forward`, you can repeat the first line to move the input tensor through all three convolutional layers. Then, reshape the resulting tensor to dimension batchsize x 16 (the batch size is always the first dimension) and apply the linear layer to it. Return the result as-is.\n",
    "\n",
    "Hint: The ease of debugging is one of the main reasons why pytorch is preferred in research over alternatives like tensorflow. You can set breakpoints in the `forward` function and watch as the input tensor gets modified by each layer to find bugs or things like wrongly calculated convolution parameters.\n",
    "\n",
    "Use the following sanity checks to verify your model:"
   ]
  },
  {
   "cell_type": "code",
   "execution_count": 7,
   "metadata": {
    "colab": {
     "base_uri": "https://localhost:8080/",
     "height": 0
    },
    "id": "3VTG7HB-8_EC",
    "outputId": "cc3632c5-f638-4ba4-d68f-8fdcb95b0ee0"
   },
   "outputs": [
    {
     "name": "stdout",
     "output_type": "stream",
     "text": [
      "  | Name   | Type        | Params\n",
      "---------------------------------------\n",
      "0 | conv1  | Conv3d      | 260   \n",
      "1 | bn1    | BatchNorm3d | 8     \n",
      "2 | conv2  | Conv3d      | 2056  \n",
      "3 | bn2    | BatchNorm3d | 16    \n",
      "4 | conv3  | Conv3d      | 8208  \n",
      "5 | bn3    | BatchNorm3d | 32    \n",
      "6 | linear | Linear      | 34    \n",
      "7 | relu   | ReLU        | 0     \n",
      "8 | TOTAL  | SimpleModel | 10614 \n",
      "Output tensor shape:  torch.Size([32, 2])\n"
     ]
    }
   ],
   "source": [
    "from exercise_2.simple_nn import SimpleModel\n",
    "from exercise_2.util.model import summarize_model\n",
    "\n",
    "simple_nn = SimpleModel()\n",
    "print(summarize_model(simple_nn))  # Expected: Rows 0-8 and TOTAL = 10614\n",
    "\n",
    "input_tensor = torch.randn(32, 1, 32, 32, 32)\n",
    "predictions = simple_nn(input_tensor)\n",
    "\n",
    "print('Output tensor shape: ', predictions.shape)  # Expected: torch.Size([32, 2])"
   ]
  },
  {
   "cell_type": "markdown",
   "metadata": {
    "id": "5KpZH5948_EC"
   },
   "source": [
    "### (c) Training"
   ]
  },
  {
   "cell_type": "markdown",
   "metadata": {
    "id": "7DRhmn5H8_EC"
   },
   "source": [
    "We already laid out most of the code structure you need to start training once you have your dataset and model defined. This code usually does not change much between projects; this is why there exist many different libraries to simplify it even more (you can take a look at pytorch lightning for example if you are interested). We will stick to the standard pytorch way of doing things for these exercises.\n",
    "\n",
    "The most important things left to do are:\n",
    "1. Define the data loaders. They take the samples you provide in your dataset implementation and take care of loading multiple samples in parallel, shuffling the dataset, and combining samples into batches.\n",
    "2. Define a loss function. For classification, this is usually `torch.nn.CrossEntropyLoss`\n",
    "3. Instantiate the optimizer. Mostly, this will be ADAM (`torch.optim.Adam`) unless you have a good reason to use another one.\n",
    "4. Implement the training loop: Get a batch of data from the data loader, move it to the GPU, perform a forward pass, compute the loss, calculate gradients in the backward pass, adjust weights in an optimizer step, repeat.\n",
    "\n",
    "Note: You have to move some stuff to the correct compute device (usually the GPU) by calling `.to(device)`: The model and loss function as well as the data you get from each batch.\n",
    "\n",
    "Take a look at the structure of `main` since you will also use it for the next exercise parts and fill in code in `train` at the blanks marked with TODO. Then, start the training below. For this exercise, we don't care too much about the results since it is a very easy classification task anyways. Your model should be able to get to > 98% validation accuracy, though. You can stop the training once that is the case."
   ]
  },
  {
   "cell_type": "code",
   "execution_count": 8,
   "metadata": {
    "colab": {
     "base_uri": "https://localhost:8080/",
     "height": 0
    },
    "id": "p4PpA9bB8_EC",
    "outputId": "5b8709d6-3cc0-4085-d185-b0869a2ef942",
    "scrolled": true
   },
   "outputs": [
    {
     "name": "stdout",
     "output_type": "stream",
     "text": [
      "Using device: cuda:0\n",
      "Generating toy data ...\n"
     ]
    },
    {
     "name": "stderr",
     "output_type": "stream",
     "text": [
      "/usr/local/lib/python3.7/dist-packages/torch/utils/data/dataloader.py:477: UserWarning: This DataLoader will create 4 worker processes in total. Our suggested max number of worker in current system is 2, which is smaller than what this DataLoader is going to create. Please be aware that excessive worker creation might get DataLoader running slow or even freeze, lower the worker number to avoid potential slowness/freeze if necessary.\n",
      "  cpuset_checked))\n"
     ]
    },
    {
     "name": "stdout",
     "output_type": "stream",
     "text": [
      "Generating toy data ...\n",
      "[000/00024] train_loss: 0.401\n",
      "[001/00017] train_loss: 0.186\n",
      "[002/00010] train_loss: 0.076\n",
      "[003/00003] train_loss: 0.020\n",
      "[003/00003] val_loss: 0.131, val_accuracy: 96.289%\n",
      "[003/00028] train_loss: 0.135\n",
      "[004/00021] train_loss: 0.091\n",
      "[005/00014] train_loss: 0.086\n",
      "[006/00007] train_loss: 0.039\n",
      "[006/00007] val_loss: 0.192, val_accuracy: 98.047%\n",
      "[007/00000] train_loss: 0.001\n",
      "[007/00025] train_loss: 0.084\n",
      "[008/00018] train_loss: 0.080\n",
      "[009/00011] train_loss: 0.034\n",
      "[009/00011] val_loss: 0.163, val_accuracy: 95.703%\n",
      "[010/00004] train_loss: 0.008\n",
      "[010/00029] train_loss: 0.172\n",
      "[011/00022] train_loss: 0.131\n",
      "[012/00015] train_loss: 0.061\n",
      "[012/00015] val_loss: 0.100, val_accuracy: 97.461%\n",
      "[013/00008] train_loss: 0.039\n",
      "[014/00001] train_loss: 0.007\n",
      "[014/00026] train_loss: 0.092\n",
      "[015/00019] train_loss: 0.069\n",
      "[015/00019] val_loss: 0.081, val_accuracy: 97.656%\n",
      "[016/00012] train_loss: 0.036\n",
      "[017/00005] train_loss: 0.024\n",
      "[017/00030] train_loss: 0.096\n",
      "[018/00023] train_loss: 0.063\n",
      "[018/00023] val_loss: 0.087, val_accuracy: 97.559%\n",
      "[019/00016] train_loss: 0.053\n",
      "[020/00009] train_loss: 0.033\n",
      "[021/00002] train_loss: 0.008\n",
      "[021/00027] train_loss: 0.046\n",
      "[021/00027] val_loss: 0.096, val_accuracy: 97.754%\n",
      "[022/00020] train_loss: 0.056\n",
      "[023/00013] train_loss: 0.034\n",
      "[024/00006] train_loss: 0.017\n",
      "[024/00031] train_loss: 0.059\n",
      "[024/00031] val_loss: 0.069, val_accuracy: 97.852%\n"
     ]
    }
   ],
   "source": [
    "from exercise_2 import simple_nn\n",
    "\n",
    "config={\n",
    "    'experiment_name': '2_2_simple_nn',\n",
    "    'device': 'cuda:0',  # change this to cpu if you do not have a GPU\n",
    "    'batch_size': 32,\n",
    "    'resume_ckpt': None,\n",
    "    'learning_rate': 0.001,\n",
    "    'max_epochs': 25,\n",
    "    'print_every_n': 25,\n",
    "    'validate_every_n': 100\n",
    "}\n",
    "\n",
    "simple_nn.main(config)  # should have val_accuracy > 99%"
   ]
  },
  {
   "cell_type": "markdown",
   "metadata": {
    "id": "e6IiCz8c8_ED"
   },
   "source": [
    "That's it! In the following parts, we will now move on to more complicated problems and more involved network models."
   ]
  },
  {
   "cell_type": "markdown",
   "metadata": {
    "id": "ucJrd-hm8_ED"
   },
   "source": [
    "## 2.3. Shape Classification using 3DCNN\n",
    "\n",
    "### (a) Download and extract voxelized ShapeNet training data"
   ]
  },
  {
   "cell_type": "markdown",
   "metadata": {
    "id": "7cBRL69J8_ED"
   },
   "source": [
    "Each folder in the `exercise_2/data/ShapeNetVox32` directory represents a shape category represented by a number, e.g. `02691156`.\n",
    "We provide the mapping between these numbers and the corresponding names in `exercise_2/data/shape_info.json`. Each of these shape category folders contains a number of shapes\n",
    "represented as voxels and stored in a `binvox` format.\n",
    "\n",
    "```\n",
    "# contents of exercise_2/data/ShapeNetVox32\n",
    "\n",
    "02691156/                                   # Shape category folder with all it's shapes\n",
    "    ├── 1a04e3eab45ca15dd86060f189eb133/    # A single shape of the category\n",
    "        ├── model.binvox                    # Voxel representation of the shape in binvox format\n",
    "    ├── 1a6ad7a24bb89733f412783097373bdc/   # Another shape of the category\n",
    "    ├── 1a9b552befd6306cc8f2d5fe7449af61/\n",
    "    ├── :                                   # And so on ...\n",
    "    ├── :\n",
    "02828884/                                   # Another shape category folder\n",
    "02933112/                                   # In total you should have 13 shape category folders\n",
    ":\n",
    ":\n",
    "```"
   ]
  },
  {
   "cell_type": "code",
   "execution_count": 9,
   "metadata": {
    "colab": {
     "base_uri": "https://localhost:8080/",
     "height": 0
    },
    "id": "yBxL-b_i8_EE",
    "outputId": "461d563e-5e20-4c67-a313-ebe62b6bd4af"
   },
   "outputs": [
    {
     "name": "stdout",
     "output_type": "stream",
     "text": [
      "Downloading ...\n",
      "--2021-05-26 09:16:42--  http://cvgl.stanford.edu/data2/ShapeNetVox32.tgz\n",
      "Resolving cvgl.stanford.edu (cvgl.stanford.edu)... 171.64.64.64\n",
      "Connecting to cvgl.stanford.edu (cvgl.stanford.edu)|171.64.64.64|:80... connected.\n",
      "HTTP request sent, awaiting response... 301 Moved Permanently\n",
      "Location: https://cvgl.stanford.edu/data2/ShapeNetVox32.tgz [following]\n",
      "--2021-05-26 09:16:42--  https://cvgl.stanford.edu/data2/ShapeNetVox32.tgz\n",
      "Connecting to cvgl.stanford.edu (cvgl.stanford.edu)|171.64.64.64|:443... connected.\n",
      "HTTP request sent, awaiting response... 200 OK\n",
      "Length: 22218020 (21M) [application/x-gzip]\n",
      "Saving to: ‘exercise_2/data/ShapeNetVox32.tgz’\n",
      "\n",
      "ShapeNetVox32.tgz   100%[===================>]  21.19M  55.7MB/s    in 0.4s    \n",
      "\n",
      "2021-05-26 09:16:43 (55.7 MB/s) - ‘exercise_2/data/ShapeNetVox32.tgz’ saved [22218020/22218020]\n",
      "\n",
      "Extracting ...\n",
      "Done.\n"
     ]
    }
   ],
   "source": [
    "print('Downloading ...')\n",
    "!wget http://cvgl.stanford.edu/data2/ShapeNetVox32.tgz -P exercise_2/data\n",
    "print('Extracting ...')\n",
    "!tar -xzf exercise_2/data/ShapeNetVox32.tgz -C exercise_2/data\n",
    "!rm exercise_2/data/ShapeNetVox32.tgz\n",
    "print('Done.')"
   ]
  },
  {
   "cell_type": "markdown",
   "metadata": {
    "id": "f8dznIao8_EE",
    "pycharm": {
     "name": "#%% md\n"
    }
   },
   "source": [
    "### (b) Dataloading and exploring the data\n",
    "\n",
    "We already provide you with a training and validation split in files `train.txt` and `val.txt` in folder `exercise_2/data/splits/shapenet`.\n",
    "All the shapes in the list `train.txt` make up the training samples, while all the samples in `val.txt` constitute the validation set.\n",
    "Additionally, we provide `overfit.txt` as the set of shapes we'll use for overfitting / debugging later.\n",
    "\n",
    "Now let's write a Pytorch Dataset class that can load this data from the disk. Check out `ShapeNetVox` class in file `exercise_2/data/shapenet.py`\n",
    "for a partial implementation of such a dataset.\n",
    "\n",
    "The dataset class is instantiated with the type of the split, e.g. `train`, `val` or `overfit` and loads all\n",
    "shape names for that split as a list in its member variable `self.items`. The class also provides utility method `get_shape_voxels(shapenet_id)`\n",
    "which given a `shapenet_id` of the form `<shape_class>/<shape_identifier>` returns a 32x32x32 numpy array representing the voxels of the shape.\n",
    "The class also provides a list of all shape categories as the static member `ShapeNetVox.classes`.\n",
    "\n",
    "Your task is to fill out the missing implementations of functions `__getitem__` and `__len__` as specified by their docstrings.\n",
    "Once done, test your implementation below."
   ]
  },
  {
   "cell_type": "code",
   "execution_count": 2,
   "metadata": {
    "id": "Tvuuvsdw8_EE",
    "pycharm": {
     "name": "#%%\n"
    }
   },
   "outputs": [],
   "source": [
    "from exercise_2.data.shapenet import ShapeNetVox\n",
    "# Let's test your implementation"
   ]
  },
  {
   "cell_type": "code",
   "execution_count": 3,
   "metadata": {
    "colab": {
     "base_uri": "https://localhost:8080/",
     "height": 0
    },
    "id": "SHfguiQx8_EE",
    "outputId": "479c066d-3bde-435e-eebd-6040bb32c1a5",
    "pycharm": {
     "name": "#%%\n"
    }
   },
   "outputs": [
    {
     "name": "stdout",
     "output_type": "stream",
     "text": [
      "Length of train set: 21705\n"
     ]
    }
   ],
   "source": [
    "# Create a dataset with train split\n",
    "trainset = ShapeNetVox('train')\n",
    "\n",
    "# Get length, which is a call to __len__ function\n",
    "print(f'Length of train set: {len(trainset)}')  # expected output: 21705"
   ]
  },
  {
   "cell_type": "code",
   "execution_count": 4,
   "metadata": {
    "colab": {
     "base_uri": "https://localhost:8080/",
     "height": 0
    },
    "id": "dY18X-Aw8_EF",
    "outputId": "5028de09-f2a3-42ab-9588-34cd93300d59",
    "pycharm": {
     "name": "#%%\n"
    }
   },
   "outputs": [
    {
     "name": "stdout",
     "output_type": "stream",
     "text": [
      "Length of validation set: 5426\n"
     ]
    }
   ],
   "source": [
    "# Create a dataset with val split and print its length\n",
    "valset = ShapeNetVox('val')\n",
    "print(f'Length of validation set: {len(valset)}')  # expected output: 5426"
   ]
  },
  {
   "cell_type": "code",
   "execution_count": 5,
   "metadata": {
    "colab": {
     "base_uri": "https://localhost:8080/",
     "height": 0,
     "referenced_widgets": [
      "1098ba00e1c14862852c423f45f716a8",
      "5ad171948ba24526ab9a85580bf2aca5",
      "6cc2750a9f324ee1a83cfc77f8d3fcb5"
     ]
    },
    "id": "I8fMoFu28_EF",
    "outputId": "3e93f291-adaf-48b2-86e4-2b6d7877edd0",
    "pycharm": {
     "name": "#%%\n"
    }
   },
   "outputs": [
    {
     "name": "stdout",
     "output_type": "stream",
     "text": [
      "Name: 04379243/d120d47f8c9bc5028640bc5712201c4a\n",
      "Voxel Dimensions: (1, 32, 32, 32)\n",
      "Label: 10 | 04379243\n"
     ]
    },
    {
     "data": {
      "application/vnd.jupyter.widget-view+json": {
       "model_id": "6b1d97db9edc443382f0503fad935c91",
       "version_major": 2,
       "version_minor": 0
      },
      "text/plain": [
       "Output()"
      ]
     },
     "metadata": {},
     "output_type": "display_data"
    }
   ],
   "source": [
    "# Visualize some shapes\n",
    "from exercise_2.util.visualization import visualize_occupancy\n",
    "\n",
    "shape_data = trainset[0]\n",
    "print(f'Name: {shape_data[\"name\"]}')  # expected output: 04379243/d120d47f8c9bc5028640bc5712201c4a\n",
    "print(f'Voxel Dimensions: {shape_data[\"voxel\"].shape}')  # expected output: (1, 32, 32, 32)\n",
    "print(f'Label: {shape_data[\"label\"]} | {ShapeNetVox.classes[shape_data[\"label\"]]}')  # expected output: 10, 04379243\n",
    "\n",
    "visualize_occupancy(shape_data[\"voxel\"].squeeze(), flip_axes=True)"
   ]
  },
  {
   "cell_type": "code",
   "execution_count": 6,
   "metadata": {
    "colab": {
     "base_uri": "https://localhost:8080/",
     "height": 0,
     "referenced_widgets": [
      "47309d8360d147f4bd7bbc74aff08bd9",
      "0a1cf81c400a464fa0bae640fa42fe97",
      "fec48fdb383946078dc0c6be72d97937"
     ]
    },
    "id": "bCBm_7xU8_EF",
    "outputId": "85fc3443-33c8-40fe-c011-4beaf3a26cd8",
    "pycharm": {
     "name": "#%%\n"
    }
   },
   "outputs": [
    {
     "name": "stdout",
     "output_type": "stream",
     "text": [
      "Name: 03211117/edfc3a8ecc5b07e9feb0fb1dff94c98a\n",
      "Voxel Dimensions: (1, 32, 32, 32)\n",
      "Label: 5 | 03211117\n"
     ]
    },
    {
     "data": {
      "application/vnd.jupyter.widget-view+json": {
       "model_id": "97f5b9616c6f4a90a79f8037cba67c55",
       "version_major": 2,
       "version_minor": 0
      },
      "text/plain": [
       "Output()"
      ]
     },
     "metadata": {},
     "output_type": "display_data"
    }
   ],
   "source": [
    "shape_data = trainset[7]\n",
    "print(f'Name: {shape_data[\"name\"]}')  # expected output: 03211117/edfc3a8ecc5b07e9feb0fb1dff94c98a\n",
    "print(f'Voxel Dimensions: {shape_data[\"voxel\"].shape}')  # expected output: (1, 32, 32, 32)\n",
    "print(f'Label: {shape_data[\"label\"]} | {ShapeNetVox.classes[shape_data[\"label\"]]}')  # expected output: 5, 03211117\n",
    "\n",
    "visualize_occupancy(shape_data[\"voxel\"].squeeze(), flip_axes=True)"
   ]
  },
  {
   "cell_type": "markdown",
   "metadata": {
    "id": "k1gkN1Sg8_EF",
    "pycharm": {
     "name": "#%% md\n"
    }
   },
   "source": [
    "### (c) Defining the model\n",
    "\n",
    "We'll be using the 3DCNN model introduced by Qi et al.[1] to classify shapes. In particular, we'll be using\n",
    "the \"Auxiliary Training by Subvolume Supervision\" model presented in `Section 4.2` / `Fig. 3` of the paper.\n",
    "\n",
    "<img src=\"exercise_2/images/3dcnn.png\" alt=\"3dcnn_architecture\" style=\"width: 1024px;\"/>\n",
    "\n",
    "Fill in the model implementation of `MLPConv` and `ThreeDeeCNN`(which would use `MLPConv` layers) in the file `exercise_2/model/cnn3d.py`.\n",
    "Since the 3DCNN model predicts 9 labels for each samples (1 global + 8 local), we expect the output tensor to be of the shape `(B, 9, N_cls)` where `B` is the batch size, `N_cls` are number of classes (13 in our case).\n",
    "This means that the global and auxilary parts of the network output a score per class.\n",
    "\n",
    "Here are some basic sanity tests for your implemetation."
   ]
  },
  {
   "cell_type": "code",
   "execution_count": 3,
   "metadata": {
    "colab": {
     "base_uri": "https://localhost:8080/",
     "height": 0
    },
    "id": "P5twQkD48_EF",
    "outputId": "125491a5-1d8e-43a0-b619-e2831ae5745c",
    "pycharm": {
     "name": "#%%\n"
    },
    "scrolled": true
   },
   "outputs": [
    {
     "name": "stdout",
     "output_type": "stream",
     "text": [
      "   | Name                   | Type        | Params  \n",
      "----------------------------------------------------------\n",
      "0  | backbone               | Sequential  | 3764464 \n",
      "1  | backbone.0             | MLPConv     | 15120   \n",
      "2  | backbone.0.model       | Sequential  | 15120   \n",
      "3  | backbone.0.model.0     | Conv3d      | 10416   \n",
      "4  | backbone.0.model.1     | ReLU        | 0       \n",
      "5  | backbone.0.model.2     | Conv3d      | 2352    \n",
      "6  | backbone.0.model.3     | ReLU        | 0       \n",
      "7  | backbone.0.model.4     | Conv3d      | 2352    \n",
      "8  | backbone.0.model.5     | ReLU        | 0       \n",
      "9  | backbone.1             | MLPConv     | 1011680 \n",
      "10 | backbone.1.model       | Sequential  | 1011680 \n",
      "11 | backbone.1.model.0     | Conv3d      | 960160  \n",
      "12 | backbone.1.model.1     | ReLU        | 0       \n",
      "13 | backbone.1.model.2     | Conv3d      | 25760   \n",
      "14 | backbone.1.model.3     | ReLU        | 0       \n",
      "15 | backbone.1.model.4     | Conv3d      | 25760   \n",
      "16 | backbone.1.model.5     | ReLU        | 0       \n",
      "17 | backbone.2             | MLPConv     | 2737664 \n",
      "18 | backbone.2.model       | Sequential  | 2737664 \n",
      "19 | backbone.2.model.0     | Conv3d      | 2212352 \n",
      "20 | backbone.2.model.1     | ReLU        | 0       \n",
      "21 | backbone.2.model.2     | Conv3d      | 262656  \n",
      "22 | backbone.2.model.3     | ReLU        | 0       \n",
      "23 | backbone.2.model.4     | Conv3d      | 262656  \n",
      "24 | backbone.2.model.5     | ReLU        | 0       \n",
      "25 | partial_predictors     | ModuleList  | 53352   \n",
      "26 | partial_predictors.0   | Sequential  | 6669    \n",
      "27 | partial_predictors.0.0 | Linear      | 6669    \n",
      "28 | partial_predictors.0.1 | Softmax     | 0       \n",
      "29 | partial_predictors.1   | Sequential  | 6669    \n",
      "30 | partial_predictors.1.0 | Linear      | 6669    \n",
      "31 | partial_predictors.1.1 | Softmax     | 0       \n",
      "32 | partial_predictors.2   | Sequential  | 6669    \n",
      "33 | partial_predictors.2.0 | Linear      | 6669    \n",
      "34 | partial_predictors.2.1 | Softmax     | 0       \n",
      "35 | partial_predictors.3   | Sequential  | 6669    \n",
      "36 | partial_predictors.3.0 | Linear      | 6669    \n",
      "37 | partial_predictors.3.1 | Softmax     | 0       \n",
      "38 | partial_predictors.4   | Sequential  | 6669    \n",
      "39 | partial_predictors.4.0 | Linear      | 6669    \n",
      "40 | partial_predictors.4.1 | Softmax     | 0       \n",
      "41 | partial_predictors.5   | Sequential  | 6669    \n",
      "42 | partial_predictors.5.0 | Linear      | 6669    \n",
      "43 | partial_predictors.5.1 | Softmax     | 0       \n",
      "44 | partial_predictors.6   | Sequential  | 6669    \n",
      "45 | partial_predictors.6.0 | Linear      | 6669    \n",
      "46 | partial_predictors.6.1 | Softmax     | 0       \n",
      "47 | partial_predictors.7   | Sequential  | 6669    \n",
      "48 | partial_predictors.7.0 | Linear      | 6669    \n",
      "49 | partial_predictors.7.1 | Softmax     | 0       \n",
      "50 | full_predictor         | Sequential  | 12613645\n",
      "51 | full_predictor.0       | Linear      | 8390656 \n",
      "52 | full_predictor.1       | ReLU        | 0       \n",
      "53 | full_predictor.2       | Dropout     | 0       \n",
      "54 | full_predictor.3       | Linear      | 4196352 \n",
      "55 | full_predictor.4       | ReLU        | 0       \n",
      "56 | full_predictor.5       | Dropout     | 0       \n",
      "57 | full_predictor.6       | Linear      | 26637   \n",
      "58 | TOTAL                  | ThreeDeeCNN | 16431461\n",
      "Output tensor shape:  torch.Size([8, 9, 13])\n",
      "Number of traininable params: 16.43M\n"
     ]
    },
    {
     "name": "stderr",
     "output_type": "stream",
     "text": [
      "/home/jacopo/.cache/pypoetry/virtualenvs/machine_learning_for_3d_geometry-_rCma-xX-py3.9/lib/python3.9/site-packages/torch/nn/modules/container.py:119: UserWarning: Implicit dimension choice for softmax has been deprecated. Change the call to include dim=X as an argument.\n",
      "  input = module(input)\n"
     ]
    }
   ],
   "source": [
    "from exercise_2.model.cnn3d import ThreeDeeCNN\n",
    "from exercise_2.util.model import summarize_model\n",
    "\n",
    "cnn3d = ThreeDeeCNN(13)\n",
    "print(summarize_model(cnn3d))  # Expected: Rows 0-40 and TOTAL = 16431461\n",
    "\n",
    "input_tensor = torch.randn(8, 1, 32, 32, 32)\n",
    "predictions = cnn3d(input_tensor)\n",
    "\n",
    "print('Output tensor shape: ', predictions.shape)  # expected output: 8, 9, 13\n",
    "\n",
    "num_trainable_params = sum(p.numel() for p in cnn3d.parameters() if p.requires_grad) / 1e6\n",
    "print(f'Number of traininable params: {num_trainable_params:.2f}M')  # expected output: ~16M"
   ]
  },
  {
   "cell_type": "markdown",
   "metadata": {
    "id": "TOIXKtJJ8_EG"
   },
   "source": [
    "### (d) Training Script\n",
    "\n",
    "Now that we have the dataset class and the model class, we just need a training script\n",
    "that trains the model using data from train dataset and evaluates the model's validation\n",
    "performance during training. A partial script is provided in `exercise_2/training/train_3dcnn.py`.\n",
    "Fill in the missing blocks to make the training work."
   ]
  },
  {
   "cell_type": "markdown",
   "metadata": {
    "id": "u0YOrpC98_EG"
   },
   "source": [
    "### (e) Overfitting to a few samples\n",
    "Before training on entire data, it is usually a good idea to try training on a small subset of data,\n",
    "to see if your model can do forward and backward passes without any errors, your metrics work, and that you model can\n",
    "overfit with a very low error on this small set."
   ]
  },
  {
   "cell_type": "code",
   "execution_count": 5,
   "metadata": {
    "colab": {
     "base_uri": "https://localhost:8080/",
     "height": 0
    },
    "id": "dz2pp_S-8_EG",
    "outputId": "49301ec5-e968-435c-93c9-b75e119e69c8",
    "pycharm": {
     "name": "#%%\n"
    }
   },
   "outputs": [
    {
     "name": "stdout",
     "output_type": "stream",
     "text": [
      "Using device: cuda:0\n",
      "[024/00003] train_loss: 0.840\n",
      "[024/00003] val_loss: 1.826, val_accuracy: 32.812%\n"
     ]
    },
    {
     "ename": "KeyboardInterrupt",
     "evalue": "",
     "output_type": "error",
     "traceback": [
      "\u001b[0;31m---------------------------------------------------------------------------\u001b[0m",
      "\u001b[0;31mKeyboardInterrupt\u001b[0m                         Traceback (most recent call last)",
      "\u001b[0;32m<ipython-input-5-b06aeb3b37df>\u001b[0m in \u001b[0;36m<module>\u001b[0;34m\u001b[0m\n\u001b[1;32m     12\u001b[0m }\n\u001b[1;32m     13\u001b[0m \u001b[0;34m\u001b[0m\u001b[0m\n\u001b[0;32m---> 14\u001b[0;31m \u001b[0mtrain_3dcnn\u001b[0m\u001b[0;34m.\u001b[0m\u001b[0mmain\u001b[0m\u001b[0;34m(\u001b[0m\u001b[0mconfig\u001b[0m\u001b[0;34m)\u001b[0m  \u001b[0;31m# should be able to get ~0 loss, 100% accuracy\u001b[0m\u001b[0;34m\u001b[0m\u001b[0;34m\u001b[0m\u001b[0m\n\u001b[0m",
      "\u001b[0;32m~/Documents/ml3d/E2/exercise_2/training/train_3dcnn.py\u001b[0m in \u001b[0;36mmain\u001b[0;34m(config)\u001b[0m\n\u001b[1;32m     54\u001b[0m \u001b[0;34m\u001b[0m\u001b[0m\n\u001b[1;32m     55\u001b[0m     \u001b[0;31m# start training\u001b[0m\u001b[0;34m\u001b[0m\u001b[0;34m\u001b[0m\u001b[0;34m\u001b[0m\u001b[0m\n\u001b[0;32m---> 56\u001b[0;31m     \u001b[0mtrain\u001b[0m\u001b[0;34m(\u001b[0m\u001b[0mmodel\u001b[0m\u001b[0;34m,\u001b[0m \u001b[0mtrainloader\u001b[0m\u001b[0;34m,\u001b[0m \u001b[0mvalloader\u001b[0m\u001b[0;34m,\u001b[0m \u001b[0mdevice\u001b[0m\u001b[0;34m,\u001b[0m \u001b[0mconfig\u001b[0m\u001b[0;34m)\u001b[0m\u001b[0;34m\u001b[0m\u001b[0;34m\u001b[0m\u001b[0m\n\u001b[0m\u001b[1;32m     57\u001b[0m \u001b[0;34m\u001b[0m\u001b[0m\n\u001b[1;32m     58\u001b[0m \u001b[0;34m\u001b[0m\u001b[0m\n",
      "\u001b[0;32m~/Documents/ml3d/E2/exercise_2/training/train_3dcnn.py\u001b[0m in \u001b[0;36mtrain\u001b[0;34m(model, trainloader, valloader, device, config)\u001b[0m\n\u001b[1;32m     78\u001b[0m         \u001b[0mtrain_loss_running\u001b[0m \u001b[0;34m=\u001b[0m \u001b[0;36m0.\u001b[0m\u001b[0;34m\u001b[0m\u001b[0;34m\u001b[0m\u001b[0m\n\u001b[1;32m     79\u001b[0m \u001b[0;34m\u001b[0m\u001b[0m\n\u001b[0;32m---> 80\u001b[0;31m         \u001b[0;32mfor\u001b[0m \u001b[0mi\u001b[0m\u001b[0;34m,\u001b[0m \u001b[0mbatch\u001b[0m \u001b[0;32min\u001b[0m \u001b[0menumerate\u001b[0m\u001b[0;34m(\u001b[0m\u001b[0mtrainloader\u001b[0m\u001b[0;34m)\u001b[0m\u001b[0;34m:\u001b[0m\u001b[0;34m\u001b[0m\u001b[0;34m\u001b[0m\u001b[0m\n\u001b[0m\u001b[1;32m     81\u001b[0m             \u001b[0;31m# move batch to device\u001b[0m\u001b[0;34m\u001b[0m\u001b[0;34m\u001b[0m\u001b[0;34m\u001b[0m\u001b[0m\n\u001b[1;32m     82\u001b[0m             \u001b[0mShapeNetVox\u001b[0m\u001b[0;34m.\u001b[0m\u001b[0mmove_batch_to_device\u001b[0m\u001b[0;34m(\u001b[0m\u001b[0mbatch\u001b[0m\u001b[0;34m,\u001b[0m \u001b[0mdevice\u001b[0m\u001b[0;34m)\u001b[0m\u001b[0;34m\u001b[0m\u001b[0;34m\u001b[0m\u001b[0m\n",
      "\u001b[0;32m~/.cache/pypoetry/virtualenvs/machine_learning_for_3d_geometry-_rCma-xX-py3.9/lib/python3.9/site-packages/torch/utils/data/dataloader.py\u001b[0m in \u001b[0;36m__next__\u001b[0;34m(self)\u001b[0m\n\u001b[1;32m    515\u001b[0m             \u001b[0;32mif\u001b[0m \u001b[0mself\u001b[0m\u001b[0;34m.\u001b[0m\u001b[0m_sampler_iter\u001b[0m \u001b[0;32mis\u001b[0m \u001b[0;32mNone\u001b[0m\u001b[0;34m:\u001b[0m\u001b[0;34m\u001b[0m\u001b[0;34m\u001b[0m\u001b[0m\n\u001b[1;32m    516\u001b[0m                 \u001b[0mself\u001b[0m\u001b[0;34m.\u001b[0m\u001b[0m_reset\u001b[0m\u001b[0;34m(\u001b[0m\u001b[0;34m)\u001b[0m\u001b[0;34m\u001b[0m\u001b[0;34m\u001b[0m\u001b[0m\n\u001b[0;32m--> 517\u001b[0;31m             \u001b[0mdata\u001b[0m \u001b[0;34m=\u001b[0m \u001b[0mself\u001b[0m\u001b[0;34m.\u001b[0m\u001b[0m_next_data\u001b[0m\u001b[0;34m(\u001b[0m\u001b[0;34m)\u001b[0m\u001b[0;34m\u001b[0m\u001b[0;34m\u001b[0m\u001b[0m\n\u001b[0m\u001b[1;32m    518\u001b[0m             \u001b[0mself\u001b[0m\u001b[0;34m.\u001b[0m\u001b[0m_num_yielded\u001b[0m \u001b[0;34m+=\u001b[0m \u001b[0;36m1\u001b[0m\u001b[0;34m\u001b[0m\u001b[0;34m\u001b[0m\u001b[0m\n\u001b[1;32m    519\u001b[0m             \u001b[0;32mif\u001b[0m \u001b[0mself\u001b[0m\u001b[0;34m.\u001b[0m\u001b[0m_dataset_kind\u001b[0m \u001b[0;34m==\u001b[0m \u001b[0m_DatasetKind\u001b[0m\u001b[0;34m.\u001b[0m\u001b[0mIterable\u001b[0m \u001b[0;32mand\u001b[0m\u001b[0;31m \u001b[0m\u001b[0;31m\\\u001b[0m\u001b[0;34m\u001b[0m\u001b[0;34m\u001b[0m\u001b[0m\n",
      "\u001b[0;32m~/.cache/pypoetry/virtualenvs/machine_learning_for_3d_geometry-_rCma-xX-py3.9/lib/python3.9/site-packages/torch/utils/data/dataloader.py\u001b[0m in \u001b[0;36m_next_data\u001b[0;34m(self)\u001b[0m\n\u001b[1;32m   1169\u001b[0m                 \u001b[0;31m# no valid `self._rcvd_idx` is found (i.e., didn't break)\u001b[0m\u001b[0;34m\u001b[0m\u001b[0;34m\u001b[0m\u001b[0;34m\u001b[0m\u001b[0m\n\u001b[1;32m   1170\u001b[0m                 \u001b[0;32mif\u001b[0m \u001b[0;32mnot\u001b[0m \u001b[0mself\u001b[0m\u001b[0;34m.\u001b[0m\u001b[0m_persistent_workers\u001b[0m\u001b[0;34m:\u001b[0m\u001b[0;34m\u001b[0m\u001b[0;34m\u001b[0m\u001b[0m\n\u001b[0;32m-> 1171\u001b[0;31m                     \u001b[0mself\u001b[0m\u001b[0;34m.\u001b[0m\u001b[0m_shutdown_workers\u001b[0m\u001b[0;34m(\u001b[0m\u001b[0;34m)\u001b[0m\u001b[0;34m\u001b[0m\u001b[0;34m\u001b[0m\u001b[0m\n\u001b[0m\u001b[1;32m   1172\u001b[0m                 \u001b[0;32mraise\u001b[0m \u001b[0mStopIteration\u001b[0m\u001b[0;34m\u001b[0m\u001b[0;34m\u001b[0m\u001b[0m\n\u001b[1;32m   1173\u001b[0m \u001b[0;34m\u001b[0m\u001b[0m\n",
      "\u001b[0;32m~/.cache/pypoetry/virtualenvs/machine_learning_for_3d_geometry-_rCma-xX-py3.9/lib/python3.9/site-packages/torch/utils/data/dataloader.py\u001b[0m in \u001b[0;36m_shutdown_workers\u001b[0;34m(self)\u001b[0m\n\u001b[1;32m   1295\u001b[0m                     \u001b[0;31m# wrong, we set a timeout and if the workers fail to join,\u001b[0m\u001b[0;34m\u001b[0m\u001b[0;34m\u001b[0m\u001b[0;34m\u001b[0m\u001b[0m\n\u001b[1;32m   1296\u001b[0m                     \u001b[0;31m# they are killed in the `finally` block.\u001b[0m\u001b[0;34m\u001b[0m\u001b[0;34m\u001b[0m\u001b[0;34m\u001b[0m\u001b[0m\n\u001b[0;32m-> 1297\u001b[0;31m                     \u001b[0mw\u001b[0m\u001b[0;34m.\u001b[0m\u001b[0mjoin\u001b[0m\u001b[0;34m(\u001b[0m\u001b[0mtimeout\u001b[0m\u001b[0;34m=\u001b[0m\u001b[0m_utils\u001b[0m\u001b[0;34m.\u001b[0m\u001b[0mMP_STATUS_CHECK_INTERVAL\u001b[0m\u001b[0;34m)\u001b[0m\u001b[0;34m\u001b[0m\u001b[0;34m\u001b[0m\u001b[0m\n\u001b[0m\u001b[1;32m   1298\u001b[0m                 \u001b[0;32mfor\u001b[0m \u001b[0mq\u001b[0m \u001b[0;32min\u001b[0m \u001b[0mself\u001b[0m\u001b[0;34m.\u001b[0m\u001b[0m_index_queues\u001b[0m\u001b[0;34m:\u001b[0m\u001b[0;34m\u001b[0m\u001b[0;34m\u001b[0m\u001b[0m\n\u001b[1;32m   1299\u001b[0m                     \u001b[0mq\u001b[0m\u001b[0;34m.\u001b[0m\u001b[0mcancel_join_thread\u001b[0m\u001b[0;34m(\u001b[0m\u001b[0;34m)\u001b[0m\u001b[0;34m\u001b[0m\u001b[0;34m\u001b[0m\u001b[0m\n",
      "\u001b[0;32m/usr/lib/python3.9/multiprocessing/process.py\u001b[0m in \u001b[0;36mjoin\u001b[0;34m(self, timeout)\u001b[0m\n\u001b[1;32m    147\u001b[0m         \u001b[0;32massert\u001b[0m \u001b[0mself\u001b[0m\u001b[0;34m.\u001b[0m\u001b[0m_parent_pid\u001b[0m \u001b[0;34m==\u001b[0m \u001b[0mos\u001b[0m\u001b[0;34m.\u001b[0m\u001b[0mgetpid\u001b[0m\u001b[0;34m(\u001b[0m\u001b[0;34m)\u001b[0m\u001b[0;34m,\u001b[0m \u001b[0;34m'can only join a child process'\u001b[0m\u001b[0;34m\u001b[0m\u001b[0;34m\u001b[0m\u001b[0m\n\u001b[1;32m    148\u001b[0m         \u001b[0;32massert\u001b[0m \u001b[0mself\u001b[0m\u001b[0;34m.\u001b[0m\u001b[0m_popen\u001b[0m \u001b[0;32mis\u001b[0m \u001b[0;32mnot\u001b[0m \u001b[0;32mNone\u001b[0m\u001b[0;34m,\u001b[0m \u001b[0;34m'can only join a started process'\u001b[0m\u001b[0;34m\u001b[0m\u001b[0;34m\u001b[0m\u001b[0m\n\u001b[0;32m--> 149\u001b[0;31m         \u001b[0mres\u001b[0m \u001b[0;34m=\u001b[0m \u001b[0mself\u001b[0m\u001b[0;34m.\u001b[0m\u001b[0m_popen\u001b[0m\u001b[0;34m.\u001b[0m\u001b[0mwait\u001b[0m\u001b[0;34m(\u001b[0m\u001b[0mtimeout\u001b[0m\u001b[0;34m)\u001b[0m\u001b[0;34m\u001b[0m\u001b[0;34m\u001b[0m\u001b[0m\n\u001b[0m\u001b[1;32m    150\u001b[0m         \u001b[0;32mif\u001b[0m \u001b[0mres\u001b[0m \u001b[0;32mis\u001b[0m \u001b[0;32mnot\u001b[0m \u001b[0;32mNone\u001b[0m\u001b[0;34m:\u001b[0m\u001b[0;34m\u001b[0m\u001b[0;34m\u001b[0m\u001b[0m\n\u001b[1;32m    151\u001b[0m             \u001b[0m_children\u001b[0m\u001b[0;34m.\u001b[0m\u001b[0mdiscard\u001b[0m\u001b[0;34m(\u001b[0m\u001b[0mself\u001b[0m\u001b[0;34m)\u001b[0m\u001b[0;34m\u001b[0m\u001b[0;34m\u001b[0m\u001b[0m\n",
      "\u001b[0;32m/usr/lib/python3.9/multiprocessing/popen_fork.py\u001b[0m in \u001b[0;36mwait\u001b[0;34m(self, timeout)\u001b[0m\n\u001b[1;32m     38\u001b[0m             \u001b[0;32mif\u001b[0m \u001b[0mtimeout\u001b[0m \u001b[0;32mis\u001b[0m \u001b[0;32mnot\u001b[0m \u001b[0;32mNone\u001b[0m\u001b[0;34m:\u001b[0m\u001b[0;34m\u001b[0m\u001b[0;34m\u001b[0m\u001b[0m\n\u001b[1;32m     39\u001b[0m                 \u001b[0;32mfrom\u001b[0m \u001b[0mmultiprocessing\u001b[0m\u001b[0;34m.\u001b[0m\u001b[0mconnection\u001b[0m \u001b[0;32mimport\u001b[0m \u001b[0mwait\u001b[0m\u001b[0;34m\u001b[0m\u001b[0;34m\u001b[0m\u001b[0m\n\u001b[0;32m---> 40\u001b[0;31m                 \u001b[0;32mif\u001b[0m \u001b[0;32mnot\u001b[0m \u001b[0mwait\u001b[0m\u001b[0;34m(\u001b[0m\u001b[0;34m[\u001b[0m\u001b[0mself\u001b[0m\u001b[0;34m.\u001b[0m\u001b[0msentinel\u001b[0m\u001b[0;34m]\u001b[0m\u001b[0;34m,\u001b[0m \u001b[0mtimeout\u001b[0m\u001b[0;34m)\u001b[0m\u001b[0;34m:\u001b[0m\u001b[0;34m\u001b[0m\u001b[0;34m\u001b[0m\u001b[0m\n\u001b[0m\u001b[1;32m     41\u001b[0m                     \u001b[0;32mreturn\u001b[0m \u001b[0;32mNone\u001b[0m\u001b[0;34m\u001b[0m\u001b[0;34m\u001b[0m\u001b[0m\n\u001b[1;32m     42\u001b[0m             \u001b[0;31m# This shouldn't block if wait() returned successfully.\u001b[0m\u001b[0;34m\u001b[0m\u001b[0;34m\u001b[0m\u001b[0;34m\u001b[0m\u001b[0m\n",
      "\u001b[0;32m/usr/lib/python3.9/multiprocessing/connection.py\u001b[0m in \u001b[0;36mwait\u001b[0;34m(object_list, timeout)\u001b[0m\n\u001b[1;32m    934\u001b[0m \u001b[0;34m\u001b[0m\u001b[0m\n\u001b[1;32m    935\u001b[0m             \u001b[0;32mwhile\u001b[0m \u001b[0;32mTrue\u001b[0m\u001b[0;34m:\u001b[0m\u001b[0;34m\u001b[0m\u001b[0;34m\u001b[0m\u001b[0m\n\u001b[0;32m--> 936\u001b[0;31m                 \u001b[0mready\u001b[0m \u001b[0;34m=\u001b[0m \u001b[0mselector\u001b[0m\u001b[0;34m.\u001b[0m\u001b[0mselect\u001b[0m\u001b[0;34m(\u001b[0m\u001b[0mtimeout\u001b[0m\u001b[0;34m)\u001b[0m\u001b[0;34m\u001b[0m\u001b[0;34m\u001b[0m\u001b[0m\n\u001b[0m\u001b[1;32m    937\u001b[0m                 \u001b[0;32mif\u001b[0m \u001b[0mready\u001b[0m\u001b[0;34m:\u001b[0m\u001b[0;34m\u001b[0m\u001b[0;34m\u001b[0m\u001b[0m\n\u001b[1;32m    938\u001b[0m                     \u001b[0;32mreturn\u001b[0m \u001b[0;34m[\u001b[0m\u001b[0mkey\u001b[0m\u001b[0;34m.\u001b[0m\u001b[0mfileobj\u001b[0m \u001b[0;32mfor\u001b[0m \u001b[0;34m(\u001b[0m\u001b[0mkey\u001b[0m\u001b[0;34m,\u001b[0m \u001b[0mevents\u001b[0m\u001b[0;34m)\u001b[0m \u001b[0;32min\u001b[0m \u001b[0mready\u001b[0m\u001b[0;34m]\u001b[0m\u001b[0;34m\u001b[0m\u001b[0;34m\u001b[0m\u001b[0m\n",
      "\u001b[0;32m/usr/lib/python3.9/selectors.py\u001b[0m in \u001b[0;36mselect\u001b[0;34m(self, timeout)\u001b[0m\n\u001b[1;32m    414\u001b[0m         \u001b[0mready\u001b[0m \u001b[0;34m=\u001b[0m \u001b[0;34m[\u001b[0m\u001b[0;34m]\u001b[0m\u001b[0;34m\u001b[0m\u001b[0;34m\u001b[0m\u001b[0m\n\u001b[1;32m    415\u001b[0m         \u001b[0;32mtry\u001b[0m\u001b[0;34m:\u001b[0m\u001b[0;34m\u001b[0m\u001b[0;34m\u001b[0m\u001b[0m\n\u001b[0;32m--> 416\u001b[0;31m             \u001b[0mfd_event_list\u001b[0m \u001b[0;34m=\u001b[0m \u001b[0mself\u001b[0m\u001b[0;34m.\u001b[0m\u001b[0m_selector\u001b[0m\u001b[0;34m.\u001b[0m\u001b[0mpoll\u001b[0m\u001b[0;34m(\u001b[0m\u001b[0mtimeout\u001b[0m\u001b[0;34m)\u001b[0m\u001b[0;34m\u001b[0m\u001b[0;34m\u001b[0m\u001b[0m\n\u001b[0m\u001b[1;32m    417\u001b[0m         \u001b[0;32mexcept\u001b[0m \u001b[0mInterruptedError\u001b[0m\u001b[0;34m:\u001b[0m\u001b[0;34m\u001b[0m\u001b[0;34m\u001b[0m\u001b[0m\n\u001b[1;32m    418\u001b[0m             \u001b[0;32mreturn\u001b[0m \u001b[0mready\u001b[0m\u001b[0;34m\u001b[0m\u001b[0;34m\u001b[0m\u001b[0m\n",
      "\u001b[0;31mKeyboardInterrupt\u001b[0m: "
     ]
    }
   ],
   "source": [
    "from exercise_2.training import train_3dcnn\n",
    "config = {\n",
    "    'experiment_name': '2_3_3dcnn_overfitting',\n",
    "    'device': 'cuda:0',                      # change this to cpu if you do not have a GPU\n",
    "    'is_overfit': True,                      # True since we're doing overfitting\n",
    "    'batch_size': 16,\n",
    "    'resume_ckpt': None,\n",
    "    'learning_rate': 0.0005,\n",
    "    'max_epochs': 300,\n",
    "    'print_every_n': 100,\n",
    "    'validate_every_n': 100,\n",
    "}\n",
    "\n",
    "train_3dcnn.main(config)  # should be able to get ~0 loss, 100% accuracy"
   ]
  },
  {
   "cell_type": "markdown",
   "metadata": {
    "id": "UVbT-vXo8_EG",
    "pycharm": {
     "name": "#%% md\n"
    }
   },
   "source": [
    "### (f) Training over the entire training set\n",
    "If the overfitting works, we can go ahead with training on the entire dataset."
   ]
  },
  {
   "cell_type": "code",
   "execution_count": 17,
   "metadata": {
    "colab": {
     "base_uri": "https://localhost:8080/",
     "height": 0
    },
    "id": "Uw3BEOKU8_EG",
    "outputId": "ba783bfa-9f39-4df5-f4a2-c276472c03ee",
    "pycharm": {
     "name": "#%%\n"
    }
   },
   "outputs": [
    {
     "name": "stdout",
     "output_type": "stream",
     "text": [
      "Using device: cuda:0\n"
     ]
    },
    {
     "name": "stderr",
     "output_type": "stream",
     "text": [
      "/usr/local/lib/python3.7/dist-packages/torch/nn/modules/container.py:119: UserWarning: Implicit dimension choice for softmax has been deprecated. Change the call to include dim=X as an argument.\n",
      "  input = module(input)\n"
     ]
    },
    {
     "name": "stdout",
     "output_type": "stream",
     "text": [
      "[000/00099] train_loss: 22.349\n",
      "[000/00199] train_loss: 20.446\n",
      "[000/00249] val_loss: 0.944, val_accuracy: 72.835%\n",
      "[000/00299] train_loss: 19.163\n",
      "[000/00399] train_loss: 18.093\n",
      "[000/00499] train_loss: 17.497\n",
      "[000/00499] val_loss: 0.606, val_accuracy: 82.731%\n",
      "[000/00599] train_loss: 17.192\n",
      "[000/00699] train_loss: 16.912\n",
      "[000/00749] val_loss: 0.515, val_accuracy: 85.698%\n",
      "[000/00799] train_loss: 16.840\n",
      "[000/00899] train_loss: 16.612\n",
      "[000/00999] train_loss: 16.515\n",
      "[000/00999] val_loss: 0.445, val_accuracy: 87.505%\n",
      "[000/01099] train_loss: 16.349\n",
      "[000/01199] train_loss: 16.308\n",
      "[000/01249] val_loss: 0.500, val_accuracy: 85.735%\n",
      "[000/01299] train_loss: 16.181\n",
      "[001/00042] train_loss: 6.930\n",
      "[001/00142] train_loss: 16.060\n",
      "[001/00142] val_loss: 0.389, val_accuracy: 88.795%\n",
      "[001/00242] train_loss: 15.986\n",
      "[001/00342] train_loss: 15.838\n",
      "[001/00392] val_loss: 0.421, val_accuracy: 87.928%\n",
      "[001/00442] train_loss: 15.679\n",
      "[001/00542] train_loss: 15.531\n",
      "[001/00642] train_loss: 15.615\n",
      "[001/00642] val_loss: 0.388, val_accuracy: 89.735%\n",
      "[001/00742] train_loss: 15.498\n",
      "[001/00842] train_loss: 15.533\n",
      "[001/00892] val_loss: 0.354, val_accuracy: 89.126%\n",
      "[001/00942] train_loss: 15.419\n",
      "[001/01042] train_loss: 15.364\n",
      "[001/01142] train_loss: 15.277\n",
      "[001/01142] val_loss: 0.366, val_accuracy: 89.753%\n",
      "[001/01242] train_loss: 15.372\n",
      "[001/01342] train_loss: 15.285\n",
      "[002/00035] val_loss: 0.346, val_accuracy: 90.177%\n",
      "[002/00085] train_loss: 13.019\n",
      "[002/00185] train_loss: 15.271\n",
      "[002/00285] train_loss: 15.136\n",
      "[002/00285] val_loss: 0.323, val_accuracy: 90.582%\n",
      "[002/00385] train_loss: 15.274\n",
      "[002/00485] train_loss: 15.057\n",
      "[002/00535] val_loss: 0.365, val_accuracy: 89.624%\n",
      "[002/00585] train_loss: 15.196\n",
      "[002/00685] train_loss: 15.197\n",
      "[002/00785] train_loss: 15.108\n",
      "[002/00785] val_loss: 0.316, val_accuracy: 90.969%\n",
      "[002/00885] train_loss: 15.079\n",
      "[002/00985] train_loss: 15.001\n",
      "[002/01035] val_loss: 0.337, val_accuracy: 90.711%\n",
      "[002/01085] train_loss: 14.918\n",
      "[002/01185] train_loss: 15.096\n",
      "[002/01285] train_loss: 15.127\n",
      "[002/01285] val_loss: 0.340, val_accuracy: 90.288%\n",
      "[003/00028] train_loss: 4.398\n",
      "[003/00128] train_loss: 14.781\n",
      "[003/00178] val_loss: 0.333, val_accuracy: 91.633%\n",
      "[003/00228] train_loss: 14.693\n",
      "[003/00328] train_loss: 14.904\n",
      "[003/00428] train_loss: 14.886\n",
      "[003/00428] val_loss: 0.348, val_accuracy: 90.195%\n",
      "[003/00528] train_loss: 14.808\n",
      "[003/00628] train_loss: 14.975\n",
      "[003/00678] val_loss: 0.307, val_accuracy: 91.836%\n",
      "[003/00728] train_loss: 14.891\n",
      "[003/00828] train_loss: 14.881\n",
      "[003/00928] train_loss: 14.845\n",
      "[003/00928] val_loss: 0.325, val_accuracy: 91.504%\n",
      "[003/01028] train_loss: 14.745\n",
      "[003/01128] train_loss: 14.914\n",
      "[003/01178] val_loss: 0.294, val_accuracy: 91.762%\n",
      "[003/01228] train_loss: 14.812\n",
      "[003/01328] train_loss: 14.770\n",
      "[004/00071] train_loss: 10.631\n",
      "[004/00071] val_loss: 0.288, val_accuracy: 91.836%\n",
      "[004/00171] train_loss: 14.737\n",
      "[004/00271] train_loss: 14.613\n",
      "[004/00321] val_loss: 0.314, val_accuracy: 91.780%\n",
      "[004/00371] train_loss: 14.792\n",
      "[004/00471] train_loss: 14.759\n",
      "[004/00571] train_loss: 14.644\n",
      "[004/00571] val_loss: 0.321, val_accuracy: 91.485%\n",
      "[004/00671] train_loss: 14.739\n",
      "[004/00771] train_loss: 14.715\n",
      "[004/00821] val_loss: 0.335, val_accuracy: 90.859%\n",
      "[004/00871] train_loss: 14.602\n",
      "[004/00971] train_loss: 14.716\n",
      "[004/01071] train_loss: 14.654\n",
      "[004/01071] val_loss: 0.281, val_accuracy: 92.388%\n",
      "[004/01171] train_loss: 14.628\n",
      "[004/01271] train_loss: 14.677\n",
      "[004/01321] val_loss: 0.281, val_accuracy: 92.149%\n"
     ]
    }
   ],
   "source": [
    "config = {\n",
    "    'experiment_name': '2_3_3dcnn_generalization',\n",
    "    'device': 'cuda:0',                     # change this to cpu if you do not have a GPU\n",
    "    'is_overfit': False,\n",
    "    'batch_size': 16,\n",
    "    'resume_ckpt': None,\n",
    "    'learning_rate': 0.0005,\n",
    "    'max_epochs': 5,\n",
    "    'print_every_n': 100,\n",
    "    'validate_every_n': 250,\n",
    "}\n",
    "\n",
    "train_3dcnn.main(config)                    # should have accuracy > 88% on val set"
   ]
  },
  {
   "cell_type": "markdown",
   "metadata": {
    "id": "AtvlDZDZ8_EG"
   },
   "source": [
    "### (g) Inference using the trained model\n",
    "\n",
    "We would now like to make shape category inference given shapes from validation set.\n",
    "Implement the function `infer_single` of class `InferenceHandler3DCNN` in file `exercise_2/inference/infer_3dcnn.py` such that it returns the\n",
    "shape category name predicted by the model given its numpy voxel representation (32x32x32). Note that the network predicts a label in range [0, 12],\n",
    "which can be mapped to a class ID (e.g. 03001627) using `ShapeNetVox.classes` which can further be mapped to a category name (e.g. chair for 03001627) using\n",
    "`ShapeNetVox.class_name_mapping`."
   ]
  },
  {
   "cell_type": "code",
   "execution_count": 13,
   "metadata": {
    "id": "Z0sg5d3e8_EH",
    "pycharm": {
     "name": "#%%\n"
    }
   },
   "outputs": [],
   "source": [
    "from exercise_2.inference.infer_3dcnn import InferenceHandler3DCNN\n",
    "\n",
    "# create a handler for inference using a trained checkpoint\n",
    "inferer = InferenceHandler3DCNN('exercise_2/runs/2_3_3dcnn_generalization/model_best.ckpt')"
   ]
  },
  {
   "cell_type": "code",
   "execution_count": 14,
   "metadata": {
    "colab": {
     "base_uri": "https://localhost:8080/",
     "height": 0,
     "referenced_widgets": [
      "1234b6aa814746fdbbb6492eafb31d36",
      "76256a0bc8a94c118267285707198313",
      "037fb6317ceb46bdb0b69fb15c605932"
     ]
    },
    "id": "-3iYj86L8_EH",
    "outputId": "9acaa53d-7e62-45b9-ee92-9e3f8500ecc6",
    "pycharm": {
     "name": "#%%\n"
    }
   },
   "outputs": [
    {
     "data": {
      "application/vnd.jupyter.widget-view+json": {
       "model_id": "0575a8063c30420a95e64af35e97ffef",
       "version_major": 2,
       "version_minor": 0
      },
      "text/plain": [
       "Output()"
      ]
     },
     "metadata": {},
     "output_type": "display_data"
    }
   ],
   "source": [
    "# get shape voxels and visualize\n",
    "shape_voxels = ShapeNetVox.get_shape_voxels('03001627/f913501826c588e89753496ba23f2183')\n",
    "visualize_occupancy(shape_voxels, flip_axes=True)"
   ]
  },
  {
   "cell_type": "code",
   "execution_count": 20,
   "metadata": {
    "colab": {
     "base_uri": "https://localhost:8080/",
     "height": 0
    },
    "id": "dBu6eXmX8_EH",
    "outputId": "eef7fc92-90b7-483b-edec-74bcb8175c0f",
    "pycharm": {
     "name": "#%%\n"
    }
   },
   "outputs": [
    {
     "name": "stdout",
     "output_type": "stream",
     "text": [
      "Predicted category: rifle\n"
     ]
    }
   ],
   "source": [
    "# predict category\n",
    "print('Predicted category:', inferer.infer_single(shape_voxels))  # expected output: chair"
   ]
  },
  {
   "cell_type": "code",
   "execution_count": 16,
   "metadata": {
    "colab": {
     "base_uri": "https://localhost:8080/",
     "height": 0,
     "referenced_widgets": [
      "9828f512e01f4e148acf0a84bf6fea7e",
      "981ebb4e6e9b424abf8b996688353163",
      "b02be034ff73431e83e491d7cee0e686"
     ]
    },
    "id": "HunlBsAN8_EH",
    "outputId": "ea7e8231-3c0c-48af-848f-b5786fb22703",
    "pycharm": {
     "name": "#%%\n"
    }
   },
   "outputs": [
    {
     "data": {
      "application/vnd.jupyter.widget-view+json": {
       "model_id": "29e8076791ca415b8c5862d2a0d2851d",
       "version_major": 2,
       "version_minor": 0
      },
      "text/plain": [
       "Output()"
      ]
     },
     "metadata": {},
     "output_type": "display_data"
    }
   ],
   "source": [
    "# get shape voxels and visualize\n",
    "shape_voxels = ShapeNetVox.get_shape_voxels('02691156/6af4383123972f2262b600da24e0965')\n",
    "visualize_occupancy(shape_voxels, flip_axes=True)"
   ]
  },
  {
   "cell_type": "code",
   "execution_count": 17,
   "metadata": {
    "colab": {
     "base_uri": "https://localhost:8080/",
     "height": 0
    },
    "id": "t8qtFbOw8_EH",
    "outputId": "6ec78b2b-ad37-4cf1-f049-0b77bbf48bc5",
    "pycharm": {
     "name": "#%%\n"
    }
   },
   "outputs": [
    {
     "name": "stdout",
     "output_type": "stream",
     "text": [
      "Predicted category: airplane\n"
     ]
    }
   ],
   "source": [
    "# predict category\n",
    "print('Predicted category:', inferer.infer_single(shape_voxels))"
   ]
  },
  {
   "cell_type": "code",
   "execution_count": 18,
   "metadata": {
    "colab": {
     "base_uri": "https://localhost:8080/",
     "height": 0,
     "referenced_widgets": [
      "759458e367534046b9735ed70d4b5a52",
      "cdf0c1c24e5a4abb9dac0947ca0ff4cc",
      "b2f045002f1d4df3adc6b0c16001b8ac"
     ]
    },
    "id": "I7I75Jnc8_EI",
    "outputId": "90f9d1f3-64f7-4707-95bb-5666bf1943db",
    "pycharm": {
     "name": "#%%\n"
    }
   },
   "outputs": [
    {
     "data": {
      "application/vnd.jupyter.widget-view+json": {
       "model_id": "1315d605097741f3bb45834d4dd91363",
       "version_major": 2,
       "version_minor": 0
      },
      "text/plain": [
       "Output()"
      ]
     },
     "metadata": {},
     "output_type": "display_data"
    }
   ],
   "source": [
    "# get shape voxels and visualize\n",
    "shape_voxels = ShapeNetVox.get_shape_voxels('04090263/eae96ddf483e896c805d3d8e378d155e')\n",
    "visualize_occupancy(shape_voxels, flip_axes=True)"
   ]
  },
  {
   "cell_type": "code",
   "execution_count": 19,
   "metadata": {
    "colab": {
     "base_uri": "https://localhost:8080/",
     "height": 0
    },
    "id": "GkTNw2UR8_EI",
    "outputId": "cfcbdd31-e23d-4d10-8701-95a03db06212",
    "pycharm": {
     "name": "#%%\n"
    }
   },
   "outputs": [
    {
     "name": "stdout",
     "output_type": "stream",
     "text": [
      "Predicted category: rifle\n"
     ]
    }
   ],
   "source": [
    "# predict category\n",
    "print('Predicted category:', inferer.infer_single(shape_voxels))"
   ]
  },
  {
   "cell_type": "markdown",
   "metadata": {
    "id": "8RShfuD48_EI"
   },
   "source": [
    "Make sure you submit the trained model `exercise_2/runs/2_3_3dcnn_generalization/model_best.ckpt` in your zip\n",
    "so that we can evaluate it on the test set at our end."
   ]
  },
  {
   "cell_type": "markdown",
   "metadata": {
    "id": "QCHIy_rR8_EI",
    "pycharm": {
     "name": "#%% md\n"
    }
   },
   "source": [
    "## 2.4. Shape Classification using PointNet"
   ]
  },
  {
   "cell_type": "markdown",
   "metadata": {
    "id": "rsRATKgq8_EI"
   },
   "source": [
    "The approach you used above works very well when there is voxelized data available. However, many applications require that points are used instead and voxelizing them every time is cumbersome and might lead to unexpected artifacts.\n",
    "\n",
    "This is where PointNet [2] is very useful: It directly takes in a set of points and can perform both classification and semantic segmentation without the need for any gridification or other form of conversion.\n",
    "\n",
    "You already heard a lot about the approach and architecture in the lecture; here, our goal is to create an implementation of it from scratch and try it out on some ShapeNet data."
   ]
  },
  {
   "cell_type": "markdown",
   "metadata": {
    "id": "V6PMOgRX8_EI"
   },
   "source": [
    "### (a) Download and prepare the ShapeNetPointClouds dataset\n",
    "We generated point clouds from ShapeNet meshes via uniform sampling. Each point cloud contains 1024 xyz points.\n",
    "\n",
    "The data layout is basically the same as in 2.3.:\n",
    "Each folder in the `exercise_2/data/ShapeNetPointClouds` directory contains one shape category represented by a number, e.g. `02691156`.\n",
    "We provide the mapping between these numbers and the corresponding names in `exercise_2/data/shape_info.json`. Each of these shape category folders contains a number of shapes in obj format.\n",
    "\n",
    "```\n",
    "# contents of exercise_2/data/ShapeNetPointClouds\n",
    "\n",
    "02691156/                                      # Shape category folder with all its shapes\n",
    "    ├── 1a04e3eab45ca15dd86060f189eb133.obj    # A single shape of the category\n",
    "    ├── 1a6ad7a24bb89733f412783097373bdc.obj   # Another shape of the category\n",
    "    ├── :                                      # And so on ...\n",
    "    ├── :\n",
    "02828884/                                      # Another shape category folder\n",
    "02933112/                                      # In total you should have 13 shape category folders\n",
    ":\n",
    ":\n",
    "```"
   ]
  },
  {
   "cell_type": "code",
   "execution_count": 25,
   "metadata": {
    "colab": {
     "base_uri": "https://localhost:8080/",
     "height": 0
    },
    "id": "4zMBR1oZ8_EJ",
    "outputId": "aca458ca-6927-436f-cdcd-6ef586e9eef6",
    "scrolled": true
   },
   "outputs": [
    {
     "name": "stdout",
     "output_type": "stream",
     "text": [
      "Downloading ...\n",
      "--2021-05-26 09:22:25--  https://www.christian-diller.de/ShapeNetPointClouds.zip\n",
      "Resolving www.christian-diller.de (www.christian-diller.de)... 116.203.212.241\n",
      "Connecting to www.christian-diller.de (www.christian-diller.de)|116.203.212.241|:443... connected.\n",
      "HTTP request sent, awaiting response... 200 OK\n",
      "Length: 453765424 (433M) [application/zip]\n",
      "Saving to: ‘exercise_2/data/ShapeNetPointClouds.zip’\n",
      "\n",
      "ShapeNetPointClouds 100%[===================>] 432.74M  19.3MB/s    in 24s     \n",
      "\n",
      "2021-05-26 09:22:49 (18.0 MB/s) - ‘exercise_2/data/ShapeNetPointClouds.zip’ saved [453765424/453765424]\n",
      "\n",
      "Extracting ...\n",
      "Done.\n"
     ]
    }
   ],
   "source": [
    "print('Downloading ...')\n",
    "!wget https://www.christian-diller.de/ShapeNetPointClouds.zip -P exercise_2/data\n",
    "print('Extracting ...')\n",
    "!unzip -q exercise_2/data/ShapeNetPointClouds.zip -d exercise_2/data\n",
    "!rm exercise_2/data/ShapeNetPointClouds.zip\n",
    "print('Done.')"
   ]
  },
  {
   "cell_type": "markdown",
   "metadata": {
    "id": "NnA7AYG68_EJ"
   },
   "source": [
    "### (b) Dataset implementation\n",
    "\n",
    "You can use the same split setup as in 2.3: `overfit.txt` for overfitting, `train.txt` for the train samples, and `val.txt` for the val samples in folder `exercise_2/data/splits/shapenet`.\n",
    "\n",
    "The dataset implementation will therefore be very similar to the one from 2.3: Fill out the missing implementations of functions `__getitem__` and `__len__` in class `ShapeNetPoints` in `exercise_2/data/shapenet.py`.\n",
    "\n",
    "The major difference is how the actual data is loaded: We don't have regular voxel grids anymore and instead load arrays of 1024 points each. In `__getitem__`, we now return 'points' instead of 'voxel' and for loading the point clouds, we use `get_point_cloud` instead of `get_shape_voxels`. You can load the point cloud data either by hand (since it is in the same obj format you used in exercise 1) or simply use `trimesh.load`. The point clouds you return from `__getitem__` should have shape 3 x 1024 and datatype `np.float32`.\n",
    "\n",
    "Otherwise, the implementation is very much the same as in 2.3. Once done, test your implementation below."
   ]
  },
  {
   "cell_type": "code",
   "execution_count": 3,
   "metadata": {
    "colab": {
     "base_uri": "https://localhost:8080/",
     "height": 0
    },
    "id": "ERNyfs298_EJ",
    "outputId": "b97a0dbd-bafc-420d-a260-8a669b7f8deb"
   },
   "outputs": [
    {
     "name": "stdout",
     "output_type": "stream",
     "text": [
      "Length of train set: 21705\n",
      "Length of val set: 5426\n",
      "Length of overfit set: 64\n"
     ]
    }
   ],
   "source": [
    "from exercise_2.data.shapenet import ShapeNetPoints\n",
    "\n",
    "# Create a dataset with train split\n",
    "train_dataset = ShapeNetPoints('train')\n",
    "val_dataset = ShapeNetPoints('val')\n",
    "overfit_dataset = ShapeNetPoints('overfit')\n",
    "\n",
    "# Get length, which is a call to __len__ function\n",
    "print(f'Length of train set: {len(train_dataset)}')  # expected output: 21705\n",
    "# Get length, which is a call to __len__ function\n",
    "print(f'Length of val set: {len(val_dataset)}')  # expected output: 5426\n",
    "# Get length, which is a call to __len__ function\n",
    "print(f'Length of overfit set: {len(overfit_dataset)}')  # expected output: 64"
   ]
  },
  {
   "cell_type": "code",
   "execution_count": 4,
   "metadata": {
    "colab": {
     "base_uri": "https://localhost:8080/",
     "height": 0,
     "referenced_widgets": [
      "5f379a982f8745b3bbbb61db3ac4e95c",
      "d38799efcc46468c8740dcfe64861fc6",
      "03441753ec944819b39db0786ef8b21a"
     ]
    },
    "id": "DYQasCNw8_EJ",
    "outputId": "e75a7538-f41c-44f8-d60e-8a199e4c4ee3"
   },
   "outputs": [
    {
     "name": "stdout",
     "output_type": "stream",
     "text": [
      "Name: 04401088/9fac50c7b7c72dc694f8f49303e93f14\n",
      "Voxel Dimensions: (3, 1024)\n",
      "Label: 11 | 04401088 | telephone\n"
     ]
    },
    {
     "data": {
      "application/vnd.jupyter.widget-view+json": {
       "model_id": "44d5d29d721a41bd9fc394e829685272",
       "version_major": 2,
       "version_minor": 0
      },
      "text/plain": [
       "Output()"
      ]
     },
     "metadata": {},
     "output_type": "display_data"
    }
   ],
   "source": [
    "# Visualize some shapes\n",
    "from exercise_2.util.visualization import visualize_pointcloud\n",
    "\n",
    "shape_data = train_dataset[np.random.randint(len(train_dataset))]\n",
    "print(f'Name: {shape_data[\"name\"]}')  # expected output: 04379243/d120d47f8c9bc5028640bc5712201c4a\n",
    "print(f'Voxel Dimensions: {shape_data[\"points\"].shape}')  # expected output: (3, 1024)\n",
    "print(f'Label: {shape_data[\"label\"]} | {ShapeNetPoints.classes[shape_data[\"label\"]]} | {ShapeNetPoints.class_name_mapping[ShapeNetPoints.classes[shape_data[\"label\"]]]}')  # expected output: 10, 04379243\n",
    "\n",
    "visualize_pointcloud(shape_data[\"points\"].T, point_size=0.025, flip_axes=True)"
   ]
  },
  {
   "cell_type": "markdown",
   "metadata": {
    "id": "htnzUaMw8_EJ"
   },
   "source": [
    "### (c) Defining the model\n",
    "\n",
    "The model architecture of PointNet was discussed in the lecture and is visualized below:\n",
    "<img src=\"exercise_2/images/pointnet.png\" alt=\"pointnet_architecture\" style=\"width: 800px;\"/>\n",
    "\n",
    "Some hints for the actual implementation:\n",
    "1. We use conv1d layers with kernel size 1 for all \"shared\" mlps to expand the feature channel dimension, e.g. when the input is of shape batch_size x 3 x 1024 and we apply conv1d(in_features=3, out_features=64), then we get to shape batch_size x 64 x 1024\n",
    "2. The mlps in the classification network after the max pooling operation are implemented using Linear layers\n",
    "3. The numbers in parenthesis after mlp() in the visualization above descibe the number of layers with their out_features dimension. Note though that the first mlp from nx3 to nx64 is expressed as two layers in the original tensorflow code but can be implemented as a single conv1d layer going from 3 to 64 features in the pytorch version.\n",
    "4. We define all layers up to and including the max pooling operation as the `PointNetEncoder`. The architecture of the model head depends on the task we are trying to solve: Either classification (`PointNetClassification`, used in this part of the exercise) or segmentation (`PointNetSegmentation`, used in 2.5).\n",
    "5. ReLU and Batch Norms are applied after each layer, except after the last classification layer. In the last layer before the max operation, we only apply Batch Norm but no ReLU.\n",
    "6. Dropout is applied for classification only after the second Linear layer, before the Batch Norm.\n",
    "7. The TNets are basically small PointNets.\n",
    "\n",
    "Implement the missing parts of the PointNet architecture in `TNet`, `PointNetEncoder`, and `PointNetClassification`, as indicated by the TODOs. All of them are located in `exercise_2/models/pointnet.py`. Use the following code cell to sanity check your implementation:"
   ]
  },
  {
   "cell_type": "code",
   "execution_count": 7,
   "metadata": {
    "colab": {
     "base_uri": "https://localhost:8080/",
     "height": 0
    },
    "id": "aclnoS4r8_EJ",
    "outputId": "f16fb6d6-2166-4970-d997-ea44b4d4d7fd"
   },
   "outputs": [
    {
     "name": "stderr",
     "output_type": "stream",
     "text": [
      "[autoreload of exercise_2.model.pointnet failed: Traceback (most recent call last):\n",
      "  File \"/home/jacopo/.cache/pypoetry/virtualenvs/machine_learning_for_3d_geometry-_rCma-xX-py3.9/lib/python3.9/site-packages/IPython/extensions/autoreload.py\", line 245, in check\n",
      "    superreload(m, reload, self.old_objects)\n",
      "  File \"/home/jacopo/.cache/pypoetry/virtualenvs/machine_learning_for_3d_geometry-_rCma-xX-py3.9/lib/python3.9/site-packages/IPython/extensions/autoreload.py\", line 394, in superreload\n",
      "    module = reload(module)\n",
      "  File \"/usr/lib/python3.9/imp.py\", line 314, in reload\n",
      "    return importlib.reload(module)\n",
      "  File \"/usr/lib/python3.9/importlib/__init__.py\", line 169, in reload\n",
      "    _bootstrap._exec(spec, module)\n",
      "  File \"<frozen importlib._bootstrap>\", line 613, in _exec\n",
      "  File \"<frozen importlib._bootstrap_external>\", line 851, in exec_module\n",
      "  File \"<frozen importlib._bootstrap_external>\", line 988, in get_code\n",
      "  File \"<frozen importlib._bootstrap_external>\", line 918, in source_to_code\n",
      "  File \"<frozen importlib._bootstrap>\", line 228, in _call_with_frames_removed\n",
      "  File \"/home/jacopo/Documents/ml3d/E2/exercise_2/model/pointnet.py\", line 122\n",
      "    self.encoder = PointNetEncoder(retu\n",
      "                                       ^\n",
      "SyntaxError: unexpected EOF while parsing\n",
      "]\n"
     ]
    },
    {
     "name": "stdout",
     "output_type": "stream",
     "text": [
      "   | Name                                      | Type                   | Params \n",
      "---------------------------------------------------------------------------------------\n",
      "0  | encoder                                   | PointNetEncoder        | 2803529\n",
      "1  | encoder.conv1                             | Sequential             | 384    \n",
      "2  | encoder.conv1.0                           | Conv1d                 | 256    \n",
      "3  | encoder.conv1.1                           | BatchNorm1d            | 128    \n",
      "4  | encoder.conv1.2                           | ReLU                   | 0      \n",
      "5  | encoder.conv2                             | Sequential             | 8576   \n",
      "6  | encoder.conv2.0                           | Conv1d                 | 8320   \n",
      "7  | encoder.conv2.1                           | BatchNorm1d            | 256    \n",
      "8  | encoder.conv2.2                           | ReLU                   | 0      \n",
      "9  | encoder.conv3                             | Sequential             | 134144 \n",
      "10 | encoder.conv3.0                           | Conv1d                 | 132096 \n",
      "11 | encoder.conv3.1                           | BatchNorm1d            | 2048   \n",
      "12 | encoder.conv3.2                           | ReLU                   | 0      \n",
      "13 | encoder.input_transform_net               | TNet                   | 803081 \n",
      "14 | encoder.input_transform_net.upscale_1     | Sequential             | 143104 \n",
      "15 | encoder.input_transform_net.upscale_1.0   | Conv1d                 | 256    \n",
      "16 | encoder.input_transform_net.upscale_1.1   | BatchNorm1d            | 128    \n",
      "17 | encoder.input_transform_net.upscale_1.2   | ReLU                   | 0      \n",
      "18 | encoder.input_transform_net.upscale_1.3   | Conv1d                 | 8320   \n",
      "19 | encoder.input_transform_net.upscale_1.4   | BatchNorm1d            | 256    \n",
      "20 | encoder.input_transform_net.upscale_1.5   | ReLU                   | 0      \n",
      "21 | encoder.input_transform_net.upscale_1.6   | Conv1d                 | 132096 \n",
      "22 | encoder.input_transform_net.upscale_1.7   | BatchNorm1d            | 2048   \n",
      "23 | encoder.input_transform_net.upscale_1.8   | ReLU                   | 0      \n",
      "24 | encoder.input_transform_net.downscale     | Sequential             | 659977 \n",
      "25 | encoder.input_transform_net.downscale.0   | Linear                 | 524800 \n",
      "26 | encoder.input_transform_net.downscale.1   | BatchNorm1d            | 1024   \n",
      "27 | encoder.input_transform_net.downscale.2   | ReLU                   | 0      \n",
      "28 | encoder.input_transform_net.downscale.3   | Linear                 | 131328 \n",
      "29 | encoder.input_transform_net.downscale.4   | BatchNorm1d            | 512    \n",
      "30 | encoder.input_transform_net.downscale.5   | ReLU                   | 0      \n",
      "31 | encoder.input_transform_net.downscale.6   | Linear                 | 2313   \n",
      "32 | encoder.feature_transform_net             | TNet                   | 1857344\n",
      "33 | encoder.feature_transform_net.upscale_1   | Sequential             | 147008 \n",
      "34 | encoder.feature_transform_net.upscale_1.0 | Conv1d                 | 4160   \n",
      "35 | encoder.feature_transform_net.upscale_1.1 | BatchNorm1d            | 128    \n",
      "36 | encoder.feature_transform_net.upscale_1.2 | ReLU                   | 0      \n",
      "37 | encoder.feature_transform_net.upscale_1.3 | Conv1d                 | 8320   \n",
      "38 | encoder.feature_transform_net.upscale_1.4 | BatchNorm1d            | 256    \n",
      "39 | encoder.feature_transform_net.upscale_1.5 | ReLU                   | 0      \n",
      "40 | encoder.feature_transform_net.upscale_1.6 | Conv1d                 | 132096 \n",
      "41 | encoder.feature_transform_net.upscale_1.7 | BatchNorm1d            | 2048   \n",
      "42 | encoder.feature_transform_net.upscale_1.8 | ReLU                   | 0      \n",
      "43 | encoder.feature_transform_net.downscale   | Sequential             | 1710336\n",
      "44 | encoder.feature_transform_net.downscale.0 | Linear                 | 524800 \n",
      "45 | encoder.feature_transform_net.downscale.1 | BatchNorm1d            | 1024   \n",
      "46 | encoder.feature_transform_net.downscale.2 | ReLU                   | 0      \n",
      "47 | encoder.feature_transform_net.downscale.3 | Linear                 | 131328 \n",
      "48 | encoder.feature_transform_net.downscale.4 | BatchNorm1d            | 512    \n",
      "49 | encoder.feature_transform_net.downscale.5 | ReLU                   | 0      \n",
      "50 | encoder.feature_transform_net.downscale.6 | Linear                 | 1052672\n",
      "51 | model                                     | Sequential             | 661005 \n",
      "52 | model.0                                   | Linear                 | 524800 \n",
      "53 | model.1                                   | BatchNorm1d            | 1024   \n",
      "54 | model.2                                   | ReLU                   | 0      \n",
      "55 | model.3                                   | Linear                 | 131328 \n",
      "56 | model.4                                   | Dropout                | 0      \n",
      "57 | model.5                                   | BatchNorm1d            | 512    \n",
      "58 | model.6                                   | ReLU                   | 0      \n",
      "59 | model.7                                   | Linear                 | 3341   \n",
      "60 | TOTAL                                     | PointNetClassification | 3464534\n",
      "Output tensor shape:  torch.Size([8, 13])\n",
      "Number of traininable params: 3.46M\n"
     ]
    }
   ],
   "source": [
    "from exercise_2.model.pointnet import PointNetClassification\n",
    "from exercise_2.util.model import summarize_model\n",
    "\n",
    "pointnet = PointNetClassification(13)\n",
    "print(summarize_model(pointnet))  # Expected: Rows 0-40 and TOTAL = 3464534\n",
    "\n",
    "input_tensor = torch.randn(8, 3, 1024)\n",
    "predictions = pointnet(input_tensor)\n",
    "\n",
    "print('Output tensor shape: ', predictions.shape)  # Expected: 8, 13\n",
    "num_trainable_params = sum(p.numel() for p in pointnet.parameters() if p.requires_grad) / 1e6\n",
    "print(f'Number of traininable params: {num_trainable_params:.2f}M')  # Expected: ~3M"
   ]
  },
  {
   "cell_type": "markdown",
   "metadata": {
    "id": "4cXVjT-f8_EK"
   },
   "source": [
    "### (d) Training Script and Overfitting\n",
    "\n",
    "You can now go to the train script in `train_pointnet_classification.py` and fill in the missing pieces as in 2.3. Then, verify that your training works by overfitting to a few samples below."
   ]
  },
  {
   "cell_type": "code",
   "execution_count": 8,
   "metadata": {
    "colab": {
     "base_uri": "https://localhost:8080/",
     "height": 0
    },
    "id": "cA0ZszDs8_EK",
    "outputId": "7871c65f-3478-41d7-8631-24ef6ced8a73",
    "scrolled": true
   },
   "outputs": [
    {
     "name": "stdout",
     "output_type": "stream",
     "text": [
      "Using device: cuda:0\n"
     ]
    },
    {
     "ename": "KeyboardInterrupt",
     "evalue": "",
     "output_type": "error",
     "traceback": [
      "\u001b[0;31m---------------------------------------------------------------------------\u001b[0m",
      "\u001b[0;31mKeyboardInterrupt\u001b[0m                         Traceback (most recent call last)",
      "\u001b[0;32m<ipython-input-8-63d0c40b4e04>\u001b[0m in \u001b[0;36m<module>\u001b[0;34m\u001b[0m\n\u001b[1;32m     12\u001b[0m }\n\u001b[1;32m     13\u001b[0m \u001b[0;34m\u001b[0m\u001b[0m\n\u001b[0;32m---> 14\u001b[0;31m \u001b[0mtrain_pointnet_classification\u001b[0m\u001b[0;34m.\u001b[0m\u001b[0mmain\u001b[0m\u001b[0;34m(\u001b[0m\u001b[0mconfig\u001b[0m\u001b[0;34m)\u001b[0m  \u001b[0;31m# should be able to get ~0 loss, 100% accuracy\u001b[0m\u001b[0;34m\u001b[0m\u001b[0;34m\u001b[0m\u001b[0m\n\u001b[0m",
      "\u001b[0;32m~/Documents/ml3d/E2/exercise_2/training/train_pointnet_classification.py\u001b[0m in \u001b[0;36mmain\u001b[0;34m(config)\u001b[0m\n\u001b[1;32m    143\u001b[0m \u001b[0;34m\u001b[0m\u001b[0m\n\u001b[1;32m    144\u001b[0m     \u001b[0;31m# Start training\u001b[0m\u001b[0;34m\u001b[0m\u001b[0;34m\u001b[0m\u001b[0;34m\u001b[0m\u001b[0m\n\u001b[0;32m--> 145\u001b[0;31m     \u001b[0mtrain\u001b[0m\u001b[0;34m(\u001b[0m\u001b[0mmodel\u001b[0m\u001b[0;34m,\u001b[0m \u001b[0mtrain_dataloader\u001b[0m\u001b[0;34m,\u001b[0m \u001b[0mval_dataloader\u001b[0m\u001b[0;34m,\u001b[0m \u001b[0mdevice\u001b[0m\u001b[0;34m,\u001b[0m \u001b[0mconfig\u001b[0m\u001b[0;34m)\u001b[0m\u001b[0;34m\u001b[0m\u001b[0;34m\u001b[0m\u001b[0m\n\u001b[0m",
      "\u001b[0;32m~/Documents/ml3d/E2/exercise_2/training/train_pointnet_classification.py\u001b[0m in \u001b[0;36mtrain\u001b[0;34m(model, trainloader, valloader, device, config)\u001b[0m\n\u001b[1;32m     43\u001b[0m             \u001b[0moptimizer\u001b[0m\u001b[0;34m.\u001b[0m\u001b[0mstep\u001b[0m\u001b[0;34m(\u001b[0m\u001b[0;34m)\u001b[0m\u001b[0;34m\u001b[0m\u001b[0;34m\u001b[0m\u001b[0m\n\u001b[1;32m     44\u001b[0m             \u001b[0;31m# loss logging\u001b[0m\u001b[0;34m\u001b[0m\u001b[0;34m\u001b[0m\u001b[0;34m\u001b[0m\u001b[0m\n\u001b[0;32m---> 45\u001b[0;31m             \u001b[0mtrain_loss_running\u001b[0m \u001b[0;34m+=\u001b[0m \u001b[0mloss\u001b[0m\u001b[0;34m.\u001b[0m\u001b[0mitem\u001b[0m\u001b[0;34m(\u001b[0m\u001b[0;34m)\u001b[0m\u001b[0;34m\u001b[0m\u001b[0;34m\u001b[0m\u001b[0m\n\u001b[0m\u001b[1;32m     46\u001b[0m             \u001b[0miteration\u001b[0m \u001b[0;34m=\u001b[0m \u001b[0mepoch\u001b[0m \u001b[0;34m*\u001b[0m \u001b[0mlen\u001b[0m\u001b[0;34m(\u001b[0m\u001b[0mtrainloader\u001b[0m\u001b[0;34m)\u001b[0m \u001b[0;34m+\u001b[0m \u001b[0mi\u001b[0m\u001b[0;34m\u001b[0m\u001b[0;34m\u001b[0m\u001b[0m\n\u001b[1;32m     47\u001b[0m \u001b[0;34m\u001b[0m\u001b[0m\n",
      "\u001b[0;31mKeyboardInterrupt\u001b[0m: "
     ]
    }
   ],
   "source": [
    "from exercise_2.training import train_pointnet_classification\n",
    "config = {\n",
    "    'experiment_name': '2_4_pointnet_classification_overfitting',\n",
    "    'device': 'cuda:0',                   # change this to cpu if you do not have a GPU\n",
    "    'is_overfit': True,                   # True since we're doing overfitting\n",
    "    'batch_size': 32,\n",
    "    'resume_ckpt': None,\n",
    "    'learning_rate': 0.001,\n",
    "    'max_epochs': 300,\n",
    "    'print_every_n': 100,\n",
    "    'validate_every_n': 100,\n",
    "}\n",
    "\n",
    "train_pointnet_classification.main(config)  # should be able to get ~0 loss, 100% accuracy"
   ]
  },
  {
   "cell_type": "markdown",
   "metadata": {
    "id": "W0a_SXER8_EK"
   },
   "source": [
    "### (e) Training over the entire training set\n",
    "\n",
    "Once your overfitting completes successfully, you can move on to training on the entire dataset again."
   ]
  },
  {
   "cell_type": "code",
   "execution_count": 31,
   "metadata": {
    "colab": {
     "base_uri": "https://localhost:8080/",
     "height": 0
    },
    "id": "E4-gVbJw8_EK",
    "outputId": "6d99bbe1-8bcd-4ec9-f793-f88cffb1db3f",
    "scrolled": true
   },
   "outputs": [
    {
     "name": "stdout",
     "output_type": "stream",
     "text": [
      "Using device: cuda:0\n"
     ]
    },
    {
     "name": "stderr",
     "output_type": "stream",
     "text": [
      "/usr/local/lib/python3.7/dist-packages/torch/utils/data/dataloader.py:477: UserWarning: This DataLoader will create 4 worker processes in total. Our suggested max number of worker in current system is 2, which is smaller than what this DataLoader is going to create. Please be aware that excessive worker creation might get DataLoader running slow or even freeze, lower the worker number to avoid potential slowness/freeze if necessary.\n",
      "  cpuset_checked))\n"
     ]
    },
    {
     "name": "stdout",
     "output_type": "stream",
     "text": [
      "[000/00099] train_loss: 0.712\n",
      "[000/00199] train_loss: 0.436\n",
      "[000/00249] val_loss: 0.332, val_accuracy: 89.440%\n",
      "[000/00299] train_loss: 0.352\n",
      "[000/00399] train_loss: 0.364\n",
      "[000/00499] train_loss: 0.328\n",
      "[000/00499] val_loss: 0.292, val_accuracy: 90.362%\n",
      "[000/00599] train_loss: 0.340\n",
      "[001/00020] train_loss: 0.054\n",
      "[001/00070] val_loss: 0.308, val_accuracy: 90.440%\n",
      "[001/00120] train_loss: 0.287\n",
      "[001/00220] train_loss: 0.282\n",
      "[001/00320] train_loss: 0.286\n",
      "[001/00320] val_loss: 0.245, val_accuracy: 92.177%\n",
      "[001/00420] train_loss: 0.293\n",
      "[001/00520] train_loss: 0.280\n",
      "[001/00570] val_loss: 0.267, val_accuracy: 91.412%\n",
      "[001/00620] train_loss: 0.310\n",
      "[002/00041] train_loss: 0.114\n",
      "[002/00141] train_loss: 0.271\n",
      "[002/00141] val_loss: 0.278, val_accuracy: 90.965%\n",
      "[002/00241] train_loss: 0.246\n",
      "[002/00341] train_loss: 0.252\n",
      "[002/00391] val_loss: 0.275, val_accuracy: 91.191%\n",
      "[002/00441] train_loss: 0.259\n",
      "[002/00541] train_loss: 0.248\n",
      "[002/00641] train_loss: 0.261\n",
      "[002/00641] val_loss: 0.296, val_accuracy: 90.422%\n",
      "[003/00062] train_loss: 0.175\n",
      "[003/00162] train_loss: 0.222\n",
      "[003/00212] val_loss: 0.208, val_accuracy: 92.956%\n",
      "[003/00262] train_loss: 0.235\n",
      "[003/00362] train_loss: 0.219\n",
      "[003/00462] train_loss: 0.260\n",
      "[003/00462] val_loss: 0.235, val_accuracy: 92.251%\n",
      "[003/00562] train_loss: 0.235\n",
      "[003/00662] train_loss: 0.217\n",
      "[004/00033] val_loss: 0.210, val_accuracy: 92.794%\n",
      "[004/00083] train_loss: 0.203\n",
      "[004/00183] train_loss: 0.245\n",
      "[004/00283] train_loss: 0.226\n",
      "[004/00283] val_loss: 0.237, val_accuracy: 92.228%\n",
      "[004/00383] train_loss: 0.215\n",
      "[004/00483] train_loss: 0.234\n",
      "[004/00533] val_loss: 0.238, val_accuracy: 92.260%\n",
      "[004/00583] train_loss: 0.240\n",
      "[005/00004] train_loss: 0.012\n",
      "[005/00104] train_loss: 0.219\n",
      "[005/00104] val_loss: 0.211, val_accuracy: 93.094%\n",
      "[005/00204] train_loss: 0.198\n",
      "[005/00304] train_loss: 0.229\n",
      "[005/00354] val_loss: 0.193, val_accuracy: 93.882%\n",
      "[005/00404] train_loss: 0.207\n",
      "[005/00504] train_loss: 0.217\n",
      "[005/00604] train_loss: 0.210\n",
      "[005/00604] val_loss: 0.177, val_accuracy: 94.015%\n",
      "[006/00025] train_loss: 0.070\n",
      "[006/00125] train_loss: 0.219\n",
      "[006/00175] val_loss: 0.179, val_accuracy: 93.895%\n",
      "[006/00225] train_loss: 0.209\n",
      "[006/00325] train_loss: 0.186\n",
      "[006/00425] train_loss: 0.184\n",
      "[006/00425] val_loss: 0.163, val_accuracy: 94.545%\n",
      "[006/00525] train_loss: 0.213\n",
      "[006/00625] train_loss: 0.213\n",
      "[006/00675] val_loss: 0.206, val_accuracy: 93.338%\n",
      "[007/00046] train_loss: 0.112\n",
      "[007/00146] train_loss: 0.175\n",
      "[007/00246] train_loss: 0.192\n",
      "[007/00246] val_loss: 0.169, val_accuracy: 94.305%\n",
      "[007/00346] train_loss: 0.212\n",
      "[007/00446] train_loss: 0.196\n",
      "[007/00496] val_loss: 0.157, val_accuracy: 94.697%\n",
      "[007/00546] train_loss: 0.183\n",
      "[007/00646] train_loss: 0.196\n",
      "[008/00067] train_loss: 0.133\n",
      "[008/00067] val_loss: 0.157, val_accuracy: 94.946%\n",
      "[008/00167] train_loss: 0.169\n",
      "[008/00267] train_loss: 0.169\n",
      "[008/00317] val_loss: 0.149, val_accuracy: 95.033%\n",
      "[008/00367] train_loss: 0.181\n",
      "[008/00467] train_loss: 0.186\n",
      "[008/00567] train_loss: 0.214\n",
      "[008/00567] val_loss: 0.188, val_accuracy: 93.707%\n",
      "[008/00667] train_loss: 0.192\n",
      "[009/00088] train_loss: 0.168\n",
      "[009/00138] val_loss: 0.212, val_accuracy: 92.435%\n",
      "[009/00188] train_loss: 0.187\n",
      "[009/00288] train_loss: 0.176\n",
      "[009/00388] train_loss: 0.166\n",
      "[009/00388] val_loss: 0.150, val_accuracy: 95.033%\n",
      "[009/00488] train_loss: 0.169\n",
      "[009/00588] train_loss: 0.188\n",
      "[009/00638] val_loss: 0.192, val_accuracy: 93.421%\n"
     ]
    }
   ],
   "source": [
    "from exercise_2.training import train_pointnet_classification\n",
    "config = {\n",
    "    'experiment_name': '2_4_pointnet_classification_generalization',\n",
    "    'device': 'cuda:0',                    # change this to cpu if you do not have a GPU\n",
    "    'is_overfit': False,\n",
    "    'batch_size': 32,\n",
    "    'resume_ckpt': None,\n",
    "    'learning_rate': 0.001,\n",
    "    'max_epochs': 10,\n",
    "    'print_every_n': 100,\n",
    "    'validate_every_n': 250,\n",
    "}\n",
    "\n",
    "train_pointnet_classification.main(config)  # Should be able to get > 92% accuracy on the val set"
   ]
  },
  {
   "cell_type": "markdown",
   "metadata": {
    "id": "ORW7PteR8_EL"
   },
   "source": [
    "### (f) Inference using the trained model"
   ]
  },
  {
   "cell_type": "code",
   "execution_count": 25,
   "metadata": {
    "id": "gN0TC5Me8_EL"
   },
   "outputs": [],
   "source": [
    "from exercise_2.inference.infer_pointnet_classification import InferenceHandlerPointNetClassification\n",
    "\n",
    "\n",
    "# create a handler for inference using a trained checkpoint\n",
    "inferer = InferenceHandlerPointNetClassification('exercise_2/runs/2_4_pointnet_classification_generalization/model_best.ckpt')"
   ]
  },
  {
   "cell_type": "code",
   "execution_count": 26,
   "metadata": {
    "id": "MPw1j1Pl8_EN"
   },
   "outputs": [
    {
     "name": "stdout",
     "output_type": "stream",
     "text": [
      "Predicted category: chair\n"
     ]
    },
    {
     "data": {
      "application/vnd.jupyter.widget-view+json": {
       "model_id": "15e16843a8e2478289589f47f61d50ef",
       "version_major": 2,
       "version_minor": 0
      },
      "text/plain": [
       "Output()"
      ]
     },
     "metadata": {},
     "output_type": "display_data"
    }
   ],
   "source": [
    "# get shape point cloud and visualize\n",
    "shape_points = ShapeNetPoints.get_point_cloud('03001627/f913501826c588e89753496ba23f2183')\n",
    "print('Predicted category:', inferer.infer_single(shape_points))  # expected output: chair\n",
    "visualize_pointcloud(shape_points.T, point_size=0.025, flip_axes=True)"
   ]
  },
  {
   "cell_type": "code",
   "execution_count": 27,
   "metadata": {
    "id": "Bv2NSpAh8_EO"
   },
   "outputs": [
    {
     "name": "stdout",
     "output_type": "stream",
     "text": [
      "Predicted category: airplane\n"
     ]
    },
    {
     "data": {
      "application/vnd.jupyter.widget-view+json": {
       "model_id": "f595512ee5a446f79e8a125ebd6a75da",
       "version_major": 2,
       "version_minor": 0
      },
      "text/plain": [
       "Output()"
      ]
     },
     "metadata": {},
     "output_type": "display_data"
    }
   ],
   "source": [
    "# get shape point cloud and visualize\n",
    "shape_points = ShapeNetPoints.get_point_cloud('02691156/6af4383123972f2262b600da24e0965')\n",
    "print('Predicted category:', inferer.infer_single(shape_points))\n",
    "visualize_pointcloud(shape_points.T, point_size=0.025, flip_axes=True)"
   ]
  },
  {
   "cell_type": "code",
   "execution_count": 28,
   "metadata": {
    "id": "QML3JxQU8_EO"
   },
   "outputs": [
    {
     "name": "stdout",
     "output_type": "stream",
     "text": [
      "Predicted category: rifle\n"
     ]
    },
    {
     "data": {
      "application/vnd.jupyter.widget-view+json": {
       "model_id": "14fe8fe78a8a4db0af92e7e8ecf1d070",
       "version_major": 2,
       "version_minor": 0
      },
      "text/plain": [
       "Output()"
      ]
     },
     "metadata": {},
     "output_type": "display_data"
    }
   ],
   "source": [
    "# get shape point cloud and visualize\n",
    "shape_points = ShapeNetPoints.get_point_cloud('04090263/eae96ddf483e896c805d3d8e378d155e')\n",
    "print('Predicted category:', inferer.infer_single(shape_points))\n",
    "visualize_pointcloud(shape_points.T, point_size=0.025, flip_axes=True)"
   ]
  },
  {
   "cell_type": "markdown",
   "metadata": {
    "id": "n8TBloWA8_EO"
   },
   "source": [
    "Make sure you submit the trained model `exercise_2/runs/2_4_pointnet_classification_generalization/model_best.ckpt` in your zip\n",
    "so that we can evaluate it on the test set at our end."
   ]
  },
  {
   "cell_type": "markdown",
   "metadata": {
    "id": "Xi23cI5O8_EO"
   },
   "source": [
    "## 2.5. Shape Parts Segmentation using PointNet\n",
    "\n",
    "We now go one step further: We do not just want to learn the overall class label for a given shape but instead for each point in a shape the part it belongs to. We call this Part Segmentation. The good thing is that we can actually re-use most of the PointNet architecture from 2.4."
   ]
  },
  {
   "cell_type": "markdown",
   "metadata": {
    "id": "U6e0szf28_EO"
   },
   "source": [
    "### (a) Download the ShapeNetPart dataset\n",
    "\n",
    "Annotating data for segmentation is a lot of effort since labelling has to be performed within the shape for each part instead of globally for the entire shape.\n",
    "\n",
    "Luckily, there are existing datasets we can use for this. In our case, this is the ShapeNet Part Segmenation dataset that you can download in the cell below.\n",
    "\n",
    "In terms of data layout, the general idea of shape class identifiers and shape IDs is the same; we just have slightly different shape categories now. Also, each point cloud now has a correponding file specifying the part class for every point.\n",
    "\n",
    "We put the shape class labels for this dataset in `exercise_2/data/shape_parts_info.json`, analogous to `shape_info.json` from exercise parts 2.3 and 2.4.\n",
    "\n",
    "The point cloud data is stored as pts files which is basically an even simpler version of obj. It omits the v in front of each line that represents a point and does not support faces. Each line therefore represents one point with its xyz coordinates, separated by a space.\n",
    "\n",
    "```\n",
    "# contents of exercise_2/data/shapenetcore_partanno_segmentation_benchmark_v0\n",
    "\n",
    "02691156/                                         # Shape category folder with all its shapes\n",
    "    ├── points                                    # All point clouds go here\n",
    "        ├── 1a04e3eab45ca15dd86060f189eb133.pts   # Point cloud data\n",
    "        ├── 1a32f10b20170883663e90eaf6b4ca52.pts  # Another point cloud\n",
    "        :\n",
    "        :\n",
    "    ├── points_label                              # Part labels for each point in the corresponding pts file\n",
    "        ├── 1a04e3eab45ca15dd86060f189eb133.seg   # Each line represents the local part class of a point\n",
    "        ├── 1a32f10b20170883663e90eaf6b4ca52.seg  # Another segmentation file\n",
    "        :\n",
    "        :\n",
    "    ├── seg_img                                   # Visualizations of the original mesh part segmentation\n",
    "02773838/                                         # Another shape category folder\n",
    "02954340/                                         # In total you should have 16 shape category folders\n",
    ":\n",
    ":\n",
    "train_test_split/                                 # Official split IDs\n",
    "```"
   ]
  },
  {
   "cell_type": "code",
   "execution_count": 32,
   "metadata": {
    "colab": {
     "base_uri": "https://localhost:8080/",
     "height": 0
    },
    "id": "M2lwVfOq8_EO",
    "outputId": "21b49bfa-050f-4722-d800-3660906fed86"
   },
   "outputs": [
    {
     "name": "stdout",
     "output_type": "stream",
     "text": [
      "Downloading ...\n",
      "--2021-05-26 11:19:19--  https://shapenet.cs.stanford.edu/ericyi/shapenetcore_partanno_segmentation_benchmark_v0.zip\n",
      "Resolving shapenet.cs.stanford.edu (shapenet.cs.stanford.edu)... 171.67.77.19\n",
      "Connecting to shapenet.cs.stanford.edu (shapenet.cs.stanford.edu)|171.67.77.19|:443... connected.\n",
      "WARNING: cannot verify shapenet.cs.stanford.edu's certificate, issued by ‘CN=InCommon RSA Server CA,OU=InCommon,O=Internet2,L=Ann Arbor,ST=MI,C=US’:\n",
      "  Issued certificate has expired.\n",
      "HTTP request sent, awaiting response... 200 OK\n",
      "Length: 666265910 (635M) [application/zip]\n",
      "Saving to: ‘exercise_2/data/shapenetcore_partanno_segmentation_benchmark_v0.zip’\n",
      "\n",
      "shapenetcore_partan 100%[===================>] 635.40M  15.6MB/s    in 54s     \n",
      "\n",
      "2021-05-26 11:20:13 (11.7 MB/s) - ‘exercise_2/data/shapenetcore_partanno_segmentation_benchmark_v0.zip’ saved [666265910/666265910]\n",
      "\n",
      "Extracting ...\n",
      "Done.\n"
     ]
    }
   ],
   "source": [
    "print('Downloading ...')\n",
    "!wget https://shapenet.cs.stanford.edu/ericyi/shapenetcore_partanno_segmentation_benchmark_v0.zip --no-check-certificate -P exercise_2/data\n",
    "print('Extracting ...')\n",
    "!unzip -q exercise_2/data/shapenetcore_partanno_segmentation_benchmark_v0.zip -d exercise_2/data\n",
    "!rm exercise_2/data/shapenetcore_partanno_segmentation_benchmark_v0.zip\n",
    "print('Done.')"
   ]
  },
  {
   "cell_type": "markdown",
   "metadata": {
    "id": "O1O7fXPs8_EP"
   },
   "source": [
    "### (b) Dataset implementation\n",
    "\n",
    "You can use the same split setup as in 2.3 and 2.4: `overfit.txt` for overfitting, `train.txt` for the train samples, and `val.txt` for the val samples; This time, use the files in folder `exercise_2/data/splits/shapenet_parts`.\n",
    "\n",
    "The dataset implementation will be similar to 2.3 and 2.4: Fill out the missing implementations of functions `__getitem__` and `__len__` in class `ShapeNetPoints` in `exercise_2/data/shapenet_parts.py`. Note that you now need to load not only the point cloud but also the per-point segmentation labels in function `get_point_cloud_with_labels`. Since each point cloud in this dataset contains more than 1024 points, we also need to sub-sample the raw points list. Use `np.random.choice` for this: Randomizing the sampling will work as augmentation which in turn helps prevent overfitting. Make sure to sample the corresponding points and labels when doing so.\n",
    "\n",
    "Once done, test your implementation below."
   ]
  },
  {
   "cell_type": "code",
   "execution_count": 29,
   "metadata": {
    "colab": {
     "base_uri": "https://localhost:8080/",
     "height": 0
    },
    "id": "iAl0TKcZ8_EP",
    "outputId": "e41f9427-7f99-4daf-d4b4-a369cf01a211"
   },
   "outputs": [
    {
     "name": "stdout",
     "output_type": "stream",
     "text": [
      "Length of train set: 12137\n",
      "Length of val set: 1870\n",
      "Length of overfit set: 64\n"
     ]
    }
   ],
   "source": [
    "from exercise_2.data.shapenet_parts import ShapeNetParts\n",
    "\n",
    "# Create a dataset with train split\n",
    "train_dataset = ShapeNetParts('train')\n",
    "val_dataset = ShapeNetParts('val')\n",
    "overfit_dataset = ShapeNetParts('overfit')\n",
    "\n",
    "# Get length, which is a call to __len__ function\n",
    "print(f'Length of train set: {len(train_dataset)}')  # expected output: 12137\n",
    "# Get length, which is a call to __len__ function\n",
    "print(f'Length of val set: {len(val_dataset)}')  # expected output: 1870\n",
    "# Get length, which is a call to __len__ function\n",
    "print(f'Length of overfit set: {len(overfit_dataset)}')  # expected output: 64\n",
    "\n",
    "\n",
    "# Visualize some shapes\n",
    "from exercise_2.util.visualization import visualize_pointcloud\n",
    "\n",
    "shape_data = train_dataset[np.random.randint(len(train_dataset))]"
   ]
  },
  {
   "cell_type": "markdown",
   "metadata": {
    "id": "rJNpZ8oZ8_EP"
   },
   "source": [
    "### (c) Modifying the PointNet Model\n",
    "\n",
    "Take a look at the PointNet architecture again:\n",
    "<img src=\"exercise_2/images/pointnet.png\" alt=\"pointnet_architecture\" style=\"width: 800px;\"/>\n",
    "\n",
    "We only cared about the blue classification part in 2.4. Now, we also want to implement the yellow part. You can re-use your encoder from 2.4. \n",
    "\n",
    "The idea is simple: Take the n points with 64-dimensional point features from the correct layer of the encoder and concatenate the global shape descriptor you get after applying the max function to it. Then, implement the remaining layers as conv1ds with batchnorm and relu after all but the last layer. The final layer reduces the dimensionality per point to m which is 50 in our case since we have 50 overall parts.\n",
    "\n",
    "Add the missing layers to `PointNetSegmentation` in `exercise_2/models/pointnet.py` and finish the implementation of the forward pass."
   ]
  },
  {
   "cell_type": "code",
   "execution_count": 34,
   "metadata": {
    "colab": {
     "base_uri": "https://localhost:8080/",
     "height": 0
    },
    "id": "xKxTck5G8_EP",
    "outputId": "0154fd09-5f0f-4fdd-8238-03868d1f9edd"
   },
   "outputs": [
    {
     "name": "stdout",
     "output_type": "stream",
     "text": [
      "   | Name                                      | Type                 | Params \n",
      "-------------------------------------------------------------------------------------\n",
      "0  | encoder                                   | PointNetEncoder      | 2803529\n",
      "1  | encoder.conv1                             | Sequential           | 384    \n",
      "2  | encoder.conv1.0                           | Conv1d               | 256    \n",
      "3  | encoder.conv1.1                           | BatchNorm1d          | 128    \n",
      "4  | encoder.conv1.2                           | ReLU                 | 0      \n",
      "5  | encoder.conv2                             | Sequential           | 8576   \n",
      "6  | encoder.conv2.0                           | Conv1d               | 8320   \n",
      "7  | encoder.conv2.1                           | BatchNorm1d          | 256    \n",
      "8  | encoder.conv2.2                           | ReLU                 | 0      \n",
      "9  | encoder.conv3                             | Sequential           | 134144 \n",
      "10 | encoder.conv3.0                           | Conv1d               | 132096 \n",
      "11 | encoder.conv3.1                           | BatchNorm1d          | 2048   \n",
      "12 | encoder.conv3.2                           | ReLU                 | 0      \n",
      "13 | encoder.input_transform_net               | TNet                 | 803081 \n",
      "14 | encoder.input_transform_net.upscale_1     | Sequential           | 143104 \n",
      "15 | encoder.input_transform_net.upscale_1.0   | Conv1d               | 256    \n",
      "16 | encoder.input_transform_net.upscale_1.1   | BatchNorm1d          | 128    \n",
      "17 | encoder.input_transform_net.upscale_1.2   | ReLU                 | 0      \n",
      "18 | encoder.input_transform_net.upscale_1.3   | Conv1d               | 8320   \n",
      "19 | encoder.input_transform_net.upscale_1.4   | BatchNorm1d          | 256    \n",
      "20 | encoder.input_transform_net.upscale_1.5   | ReLU                 | 0      \n",
      "21 | encoder.input_transform_net.upscale_1.6   | Conv1d               | 132096 \n",
      "22 | encoder.input_transform_net.upscale_1.7   | BatchNorm1d          | 2048   \n",
      "23 | encoder.input_transform_net.upscale_1.8   | ReLU                 | 0      \n",
      "24 | encoder.input_transform_net.downscale     | Sequential           | 659977 \n",
      "25 | encoder.input_transform_net.downscale.0   | Linear               | 524800 \n",
      "26 | encoder.input_transform_net.downscale.1   | BatchNorm1d          | 1024   \n",
      "27 | encoder.input_transform_net.downscale.2   | ReLU                 | 0      \n",
      "28 | encoder.input_transform_net.downscale.3   | Linear               | 131328 \n",
      "29 | encoder.input_transform_net.downscale.4   | BatchNorm1d          | 512    \n",
      "30 | encoder.input_transform_net.downscale.5   | ReLU                 | 0      \n",
      "31 | encoder.input_transform_net.downscale.6   | Linear               | 2313   \n",
      "32 | encoder.feature_transform_net             | TNet                 | 1857344\n",
      "33 | encoder.feature_transform_net.upscale_1   | Sequential           | 147008 \n",
      "34 | encoder.feature_transform_net.upscale_1.0 | Conv1d               | 4160   \n",
      "35 | encoder.feature_transform_net.upscale_1.1 | BatchNorm1d          | 128    \n",
      "36 | encoder.feature_transform_net.upscale_1.2 | ReLU                 | 0      \n",
      "37 | encoder.feature_transform_net.upscale_1.3 | Conv1d               | 8320   \n",
      "38 | encoder.feature_transform_net.upscale_1.4 | BatchNorm1d          | 256    \n",
      "39 | encoder.feature_transform_net.upscale_1.5 | ReLU                 | 0      \n",
      "40 | encoder.feature_transform_net.upscale_1.6 | Conv1d               | 132096 \n",
      "41 | encoder.feature_transform_net.upscale_1.7 | BatchNorm1d          | 2048   \n",
      "42 | encoder.feature_transform_net.upscale_1.8 | ReLU                 | 0      \n",
      "43 | encoder.feature_transform_net.downscale   | Sequential           | 1710336\n",
      "44 | encoder.feature_transform_net.downscale.0 | Linear               | 524800 \n",
      "45 | encoder.feature_transform_net.downscale.1 | BatchNorm1d          | 1024   \n",
      "46 | encoder.feature_transform_net.downscale.2 | ReLU                 | 0      \n",
      "47 | encoder.feature_transform_net.downscale.3 | Linear               | 131328 \n",
      "48 | encoder.feature_transform_net.downscale.4 | BatchNorm1d          | 512    \n",
      "49 | encoder.feature_transform_net.downscale.5 | ReLU                 | 0      \n",
      "50 | encoder.feature_transform_net.downscale.6 | Linear               | 1052672\n",
      "51 | model                                     | Sequential           | 730034 \n",
      "52 | model.0                                   | Conv1d               | 557568 \n",
      "53 | model.1                                   | BatchNorm1d          | 1024   \n",
      "54 | model.2                                   | ReLU                 | 0      \n",
      "55 | model.3                                   | Conv1d               | 131328 \n",
      "56 | model.4                                   | BatchNorm1d          | 512    \n",
      "57 | model.5                                   | ReLU                 | 0      \n",
      "58 | model.6                                   | Conv1d               | 32896  \n",
      "59 | model.7                                   | BatchNorm1d          | 256    \n",
      "60 | model.8                                   | ReLU                 | 0      \n",
      "61 | model.9                                   | Conv1d               | 6450   \n",
      "62 | TOTAL                                     | PointNetSegmentation | 3533563\n",
      "Output tensor shape:  torch.Size([8, 1024, 50])\n",
      "Number of traininable params: 3.53M\n"
     ]
    }
   ],
   "source": [
    "from exercise_2.model.pointnet import PointNetSegmentation\n",
    "from exercise_2.util.model import summarize_model\n",
    "\n",
    "pointnet = PointNetSegmentation(50)\n",
    "print(summarize_model(pointnet))  # Expected: Rows 0-40 and TOTAL = 3533563\n",
    "\n",
    "input_tensor = torch.randn(8, 3, 1024)\n",
    "predictions = pointnet(input_tensor)\n",
    "\n",
    "print('Output tensor shape: ', predictions.shape)  # Expected: 8, 1024, 50\n",
    "num_trainable_params = sum(p.numel() for p in pointnet.parameters() if p.requires_grad) / 1e6\n",
    "print(f'Number of traininable params: {num_trainable_params:.2f}M')  # Expected: ~3M"
   ]
  },
  {
   "cell_type": "markdown",
   "metadata": {
    "id": "bTR4KR1i8_EP"
   },
   "source": [
    "### (d) Training Script and Overfitting\n",
    "\n",
    "You can now go to the train script in `train_pointnet_segmentation.py` and fill in the missing pieces as in 2.3 and 2.4. Then, verify that your training work by overfitting to a few samples below."
   ]
  },
  {
   "cell_type": "code",
   "execution_count": 35,
   "metadata": {
    "colab": {
     "base_uri": "https://localhost:8080/",
     "height": 0
    },
    "id": "SJ6JgyZj8_EP",
    "outputId": "719f5397-34ce-43b5-be9b-68fc9f113f18"
   },
   "outputs": [
    {
     "name": "stdout",
     "output_type": "stream",
     "text": [
      "Using device: cuda:0\n"
     ]
    },
    {
     "name": "stderr",
     "output_type": "stream",
     "text": [
      "/usr/local/lib/python3.7/dist-packages/torch/utils/data/dataloader.py:477: UserWarning: This DataLoader will create 4 worker processes in total. Our suggested max number of worker in current system is 2, which is smaller than what this DataLoader is going to create. Please be aware that excessive worker creation might get DataLoader running slow or even freeze, lower the worker number to avoid potential slowness/freeze if necessary.\n",
      "  cpuset_checked))\n"
     ]
    },
    {
     "name": "stdout",
     "output_type": "stream",
     "text": [
      "[049/00001] train_loss: 0.006\n",
      "[049/00001] val_loss: 0.530, val_accuracy: 83.974%, val_iou: 0.730\n",
      "[099/00001] train_loss: 0.003\n",
      "[099/00001] val_loss: 0.268, val_accuracy: 90.663%, val_iou: 0.791\n",
      "[149/00001] train_loss: 0.003\n",
      "[149/00001] val_loss: 0.167, val_accuracy: 93.481%, val_iou: 0.865\n",
      "[199/00001] train_loss: 0.002\n",
      "[199/00001] val_loss: 0.232, val_accuracy: 91.577%, val_iou: 0.865\n",
      "[249/00001] train_loss: 0.002\n",
      "[249/00001] val_loss: 0.150, val_accuracy: 94.226%, val_iou: 0.895\n",
      "[299/00001] train_loss: 0.002\n",
      "[299/00001] val_loss: 0.124, val_accuracy: 94.879%, val_iou: 0.889\n",
      "[349/00001] train_loss: 0.001\n",
      "[349/00001] val_loss: 0.171, val_accuracy: 93.687%, val_iou: 0.872\n",
      "[399/00001] train_loss: 0.002\n",
      "[399/00001] val_loss: 0.217, val_accuracy: 91.736%, val_iou: 0.878\n",
      "[449/00001] train_loss: 0.001\n",
      "[449/00001] val_loss: 0.160, val_accuracy: 94.281%, val_iou: 0.887\n",
      "[499/00001] train_loss: 0.001\n",
      "[499/00001] val_loss: 0.110, val_accuracy: 95.786%, val_iou: 0.908\n",
      "[549/00001] train_loss: 0.001\n",
      "[549/00001] val_loss: 0.104, val_accuracy: 95.850%, val_iou: 0.921\n",
      "[599/00001] train_loss: 0.001\n",
      "[599/00001] val_loss: 0.213, val_accuracy: 93.190%, val_iou: 0.880\n",
      "[649/00001] train_loss: 0.001\n",
      "[649/00001] val_loss: 0.176, val_accuracy: 94.368%, val_iou: 0.890\n",
      "[699/00001] train_loss: 0.001\n",
      "[699/00001] val_loss: 0.129, val_accuracy: 95.457%, val_iou: 0.918\n",
      "[749/00001] train_loss: 0.001\n",
      "[749/00001] val_loss: 0.154, val_accuracy: 94.450%, val_iou: 0.894\n",
      "[799/00001] train_loss: 0.001\n",
      "[799/00001] val_loss: 0.108, val_accuracy: 96.013%, val_iou: 0.923\n",
      "[849/00001] train_loss: 0.001\n",
      "[849/00001] val_loss: 0.149, val_accuracy: 94.350%, val_iou: 0.912\n",
      "[899/00001] train_loss: 0.001\n",
      "[899/00001] val_loss: 0.194, val_accuracy: 93.153%, val_iou: 0.884\n",
      "[949/00001] train_loss: 0.001\n",
      "[949/00001] val_loss: 0.093, val_accuracy: 96.696%, val_iou: 0.928\n",
      "[999/00001] train_loss: 0.001\n",
      "[999/00001] val_loss: 0.080, val_accuracy: 96.809%, val_iou: 0.941\n"
     ]
    }
   ],
   "source": [
    "from exercise_2.training import train_pointnet_segmentation\n",
    "config = {\n",
    "    'experiment_name': '2_5_pointnet_segmentation_overfitting',\n",
    "    'device': 'cuda:0',                   # change this to cpu if you do not have a GPU\n",
    "    'is_overfit': True,                   # True since we're doing overfitting\n",
    "    'batch_size': 32,\n",
    "    'resume_ckpt': None,\n",
    "    'learning_rate': 0.001,\n",
    "    'max_epochs': 1000,\n",
    "    'print_every_n': 100,\n",
    "    'validate_every_n': 100,\n",
    "}\n",
    "\n",
    "train_pointnet_segmentation.main(config)  # should be able to get ~0.03 loss, >97% accuracy, >0.95 iou"
   ]
  },
  {
   "cell_type": "markdown",
   "metadata": {
    "id": "5DyYXbiy8_EQ"
   },
   "source": [
    "### (e) Training over the entire training set\n",
    "\n",
    "Once your overfitting completes successfully, you can move on to training on the entire dataset again."
   ]
  },
  {
   "cell_type": "code",
   "execution_count": 36,
   "metadata": {
    "colab": {
     "base_uri": "https://localhost:8080/",
     "height": 0
    },
    "id": "lrXbGJtb8_EQ",
    "outputId": "4692fdd8-2b60-403a-d0fd-33a5d8d4f427",
    "scrolled": true
   },
   "outputs": [
    {
     "name": "stdout",
     "output_type": "stream",
     "text": [
      "Using device: cuda:0\n"
     ]
    },
    {
     "name": "stderr",
     "output_type": "stream",
     "text": [
      "/usr/local/lib/python3.7/dist-packages/torch/utils/data/dataloader.py:477: UserWarning: This DataLoader will create 4 worker processes in total. Our suggested max number of worker in current system is 2, which is smaller than what this DataLoader is going to create. Please be aware that excessive worker creation might get DataLoader running slow or even freeze, lower the worker number to avoid potential slowness/freeze if necessary.\n",
      "  cpuset_checked))\n"
     ]
    },
    {
     "name": "stdout",
     "output_type": "stream",
     "text": [
      "[000/00099] train_loss: 1.315\n",
      "[000/00199] train_loss: 0.623\n",
      "[000/00249] val_loss: 0.725, val_accuracy: 78.164%, val_iou: 0.683\n",
      "[000/00299] train_loss: 0.515\n",
      "[001/00019] train_loss: 0.091\n",
      "[001/00119] train_loss: 0.400\n",
      "[001/00119] val_loss: 0.565, val_accuracy: 81.374%, val_iou: 0.717\n",
      "[001/00219] train_loss: 0.384\n",
      "[001/00319] train_loss: 0.353\n",
      "[001/00369] val_loss: 0.520, val_accuracy: 81.042%, val_iou: 0.735\n",
      "[002/00039] train_loss: 0.128\n",
      "[002/00139] train_loss: 0.349\n",
      "[002/00239] train_loss: 0.312\n",
      "[002/00239] val_loss: 0.375, val_accuracy: 87.169%, val_iou: 0.787\n",
      "[002/00339] train_loss: 0.323\n",
      "[003/00059] train_loss: 0.172\n",
      "[003/00109] val_loss: 0.393, val_accuracy: 86.517%, val_iou: 0.776\n",
      "[003/00159] train_loss: 0.298\n",
      "[003/00259] train_loss: 0.285\n",
      "[003/00359] train_loss: 0.305\n",
      "[003/00359] val_loss: 0.374, val_accuracy: 86.826%, val_iou: 0.794\n",
      "[004/00079] train_loss: 0.232\n",
      "[004/00179] train_loss: 0.282\n",
      "[004/00229] val_loss: 0.332, val_accuracy: 88.014%, val_iou: 0.806\n",
      "[004/00279] train_loss: 0.283\n",
      "[004/00379] train_loss: 0.273\n",
      "[005/00099] train_loss: 0.286\n",
      "[005/00099] val_loss: 0.371, val_accuracy: 87.522%, val_iou: 0.794\n",
      "[005/00199] train_loss: 0.273\n",
      "[005/00299] train_loss: 0.266\n",
      "[005/00349] val_loss: 0.271, val_accuracy: 90.336%, val_iou: 0.834\n",
      "[006/00019] train_loss: 0.050\n",
      "[006/00119] train_loss: 0.261\n",
      "[006/00219] train_loss: 0.241\n",
      "[006/00219] val_loss: 0.251, val_accuracy: 90.913%, val_iou: 0.840\n",
      "[006/00319] train_loss: 0.264\n",
      "[007/00039] train_loss: 0.104\n",
      "[007/00089] val_loss: 0.292, val_accuracy: 89.054%, val_iou: 0.814\n",
      "[007/00139] train_loss: 0.246\n",
      "[007/00239] train_loss: 0.258\n",
      "[007/00339] train_loss: 0.246\n",
      "[007/00339] val_loss: 0.251, val_accuracy: 91.034%, val_iou: 0.838\n",
      "[008/00059] train_loss: 0.151\n",
      "[008/00159] train_loss: 0.240\n",
      "[008/00209] val_loss: 0.247, val_accuracy: 91.265%, val_iou: 0.842\n",
      "[008/00259] train_loss: 0.236\n",
      "[008/00359] train_loss: 0.236\n",
      "[009/00079] train_loss: 0.211\n",
      "[009/00079] val_loss: 0.267, val_accuracy: 90.413%, val_iou: 0.836\n",
      "[009/00179] train_loss: 0.235\n",
      "[009/00279] train_loss: 0.242\n",
      "[009/00329] val_loss: 0.274, val_accuracy: 89.941%, val_iou: 0.836\n",
      "[009/00379] train_loss: 0.249\n",
      "[010/00099] train_loss: 0.240\n",
      "[010/00199] train_loss: 0.227\n",
      "[010/00199] val_loss: 0.230, val_accuracy: 91.612%, val_iou: 0.849\n",
      "[010/00299] train_loss: 0.238\n",
      "[011/00019] train_loss: 0.047\n",
      "[011/00069] val_loss: 0.227, val_accuracy: 91.811%, val_iou: 0.849\n",
      "[011/00119] train_loss: 0.222\n",
      "[011/00219] train_loss: 0.243\n",
      "[011/00319] train_loss: 0.227\n",
      "[011/00319] val_loss: 0.238, val_accuracy: 91.343%, val_iou: 0.845\n"
     ]
    }
   ],
   "source": [
    "from exercise_2.training import train_pointnet_segmentation\n",
    "config = {\n",
    "    'experiment_name': '2_5_pointnet_segmentation_generalization',\n",
    "    'device': 'cuda:0',                   # change this to cpu if you do not have a GPU\n",
    "    'is_overfit': False,\n",
    "    'batch_size': 32,\n",
    "    'resume_ckpt': None,\n",
    "    'learning_rate': 0.001,\n",
    "    'max_epochs': 12,\n",
    "    'print_every_n': 100,\n",
    "    'validate_every_n': 250,\n",
    "}\n",
    "\n",
    "train_pointnet_segmentation.main(config)  # Should be able to get > 90% accuracy and > 0.8 iou on the val set"
   ]
  },
  {
   "cell_type": "markdown",
   "metadata": {
    "id": "TZ6VlrkE8_EQ"
   },
   "source": [
    "### (f) Inference using the trained model"
   ]
  },
  {
   "cell_type": "code",
   "execution_count": 30,
   "metadata": {
    "id": "drRMlQ798_EQ"
   },
   "outputs": [],
   "source": [
    "from exercise_2.inference.infer_pointnet_segmentation import InferenceHandlerPointNetSegmentation\n",
    "from exercise_2.util.visualization import visualize_pointcloud\n",
    "from matplotlib import cm, colors\n",
    "import numpy as np\n",
    "\n",
    "# create a handler for inference using a trained checkpoint\n",
    "inferer = InferenceHandlerPointNetSegmentation('exercise_2/runs/2_5_pointnet_segmentation_generalization/model_best.ckpt')"
   ]
  },
  {
   "cell_type": "code",
   "execution_count": 31,
   "metadata": {
    "id": "HF36loD78_EQ"
   },
   "outputs": [
    {
     "name": "stderr",
     "output_type": "stream",
     "text": [
      "/home/jacopo/.cache/pypoetry/virtualenvs/machine_learning_for_3d_geometry-_rCma-xX-py3.9/lib/python3.9/site-packages/traittypes/traittypes.py:97: UserWarning: Given trait value dtype \"int64\" does not match required type \"uint32\". A coerced copy has been created.\n",
      "  warnings.warn(\n"
     ]
    },
    {
     "data": {
      "application/vnd.jupyter.widget-view+json": {
       "model_id": "ff0853c541b64d0691d4c4f3a97dfc2a",
       "version_major": 2,
       "version_minor": 0
      },
      "text/plain": [
       "Output()"
      ]
     },
     "metadata": {},
     "output_type": "display_data"
    }
   ],
   "source": [
    "# Get shape point cloud, predict labels, and visualize colored point cloud\n",
    "shape_points = ShapeNetParts.get_point_cloud_with_labels('02691156/1c4b8662938adf41da2b0f839aba40f9')[0]\n",
    "point_labels = inferer.infer_single(shape_points)\n",
    "point_labels = (point_labels - min(point_labels)) / (max(point_labels) - min(point_labels))\n",
    "point_colors = cm.get_cmap('hsv')(point_labels)[:, :3]\n",
    "point_colors = np.sum((point_colors * 255).astype(int) * [255*255, 255, 1], axis=1)\n",
    "visualize_pointcloud(shape_points.T, colors=point_colors, point_size=0.025, flip_axes=True)"
   ]
  },
  {
   "cell_type": "code",
   "execution_count": 32,
   "metadata": {
    "id": "JG37O62e8_EQ"
   },
   "outputs": [
    {
     "data": {
      "application/vnd.jupyter.widget-view+json": {
       "model_id": "dc8443a694114f168755cc0f7cfa97e7",
       "version_major": 2,
       "version_minor": 0
      },
      "text/plain": [
       "Output()"
      ]
     },
     "metadata": {},
     "output_type": "display_data"
    }
   ],
   "source": [
    "# Get shape point cloud, predict labels, and visualize colored point cloud\n",
    "shape_points = ShapeNetParts.get_point_cloud_with_labels('03948459/e017cf5dac1e39b013d74211a209ce')[0]\n",
    "point_labels = inferer.infer_single(shape_points)\n",
    "point_labels = (point_labels - min(point_labels)) / (max(point_labels) - min(point_labels))\n",
    "point_colors = cm.get_cmap('hsv')(point_labels)[:, :3]\n",
    "point_colors = np.sum((point_colors * 255).astype(int) * [255*255, 255, 1], axis=1)\n",
    "visualize_pointcloud(shape_points.T, colors=point_colors, point_size=0.025, flip_axes=True)"
   ]
  },
  {
   "cell_type": "code",
   "execution_count": 33,
   "metadata": {
    "id": "MaIwHTh_8_ER"
   },
   "outputs": [
    {
     "data": {
      "application/vnd.jupyter.widget-view+json": {
       "model_id": "b9ebcfdf1ae449c597e49d02801eb347",
       "version_major": 2,
       "version_minor": 0
      },
      "text/plain": [
       "Output()"
      ]
     },
     "metadata": {},
     "output_type": "display_data"
    }
   ],
   "source": [
    "# Get shape point cloud, predict labels, and visualize colored point cloud\n",
    "shape_points = ShapeNetParts.get_point_cloud_with_labels('03790512/86b6dc954e1ca8e948272812609617e2')[0]\n",
    "point_labels = inferer.infer_single(shape_points)\n",
    "point_labels = (point_labels - min(point_labels)) / (max(point_labels) - min(point_labels))\n",
    "point_colors = cm.get_cmap('hsv')(point_labels)[:, :3]\n",
    "point_colors = np.sum((point_colors * 255).astype(int) * [255*255, 255, 1], axis=1)\n",
    "visualize_pointcloud(shape_points.T, colors=point_colors, point_size=0.025, flip_axes=True)"
   ]
  },
  {
   "cell_type": "markdown",
   "metadata": {
    "id": "IZACkoYe8_ER"
   },
   "source": [
    "Make sure you submit the trained model exercise_2/runs/2_5_pointnet_segmentation_generalization/model_best.ckpt in your zip so that we can evaluate it on the test set at our end."
   ]
  },
  {
   "cell_type": "markdown",
   "metadata": {
    "id": "kZXhv_k-8_ER"
   },
   "source": [
    "## Submission\n",
    "\n",
    "This is the end of exercise 2 🙂. Please create a zip containing all files we provided, everything you modified, and all of your generated output/visualization files, including you checkpoints. Name it with your matriculation number(s) as described in exercise 1. Make sure this notebook can be run without problems. Then, submit via Moodle.\n",
    "\n",
    "**Submission Deadline**: 26.05.2021 23:55"
   ]
  },
  {
   "cell_type": "markdown",
   "metadata": {
    "id": "g202r1h58_ER"
   },
   "source": [
    "## References\n",
    "\n"
   ]
  },
  {
   "cell_type": "markdown",
   "metadata": {
    "id": "UXDAAKm18_ER"
   },
   "source": [
    "[1] Qi, C. et al. “Volumetric and Multi-view CNNs for Object Classification on 3D Data.” 2016 IEEE Conference on Computer Vision and Pattern Recognition (CVPR) (2016): 5648-5656.\n",
    "\n",
    "[2] Qi, C. et al. “PointNet: Deep Learning on Point Sets for 3D Classification and Segmentation.” 2017 IEEE Conference on Computer Vision and Pattern Recognition (CVPR) (2017): 77-85."
   ]
  }
 ],
 "metadata": {
  "accelerator": "GPU",
  "colab": {
   "name": "exercise_2.ipynb",
   "provenance": [],
   "toc_visible": true
  },
  "kernelspec": {
   "display_name": "Python 3",
   "language": "python",
   "name": "python3"
  },
  "language_info": {
   "codemirror_mode": {
    "name": "ipython",
    "version": 3
   },
   "file_extension": ".py",
   "mimetype": "text/x-python",
   "name": "python",
   "nbconvert_exporter": "python",
   "pygments_lexer": "ipython3",
   "version": "3.9.5"
  },
  "widgets": {
   "application/vnd.jupyter.widget-state+json": {
    "03441753ec944819b39db0786ef8b21a": {
     "model_module": "@jupyter-widgets/base",
     "model_name": "LayoutModel",
     "state": {
      "_model_module": "@jupyter-widgets/base",
      "_model_module_version": "1.2.0",
      "_model_name": "LayoutModel",
      "_view_count": null,
      "_view_module": "@jupyter-widgets/base",
      "_view_module_version": "1.2.0",
      "_view_name": "LayoutView",
      "align_content": null,
      "align_items": null,
      "align_self": null,
      "border": null,
      "bottom": null,
      "display": null,
      "flex": null,
      "flex_flow": null,
      "grid_area": null,
      "grid_auto_columns": null,
      "grid_auto_flow": null,
      "grid_auto_rows": null,
      "grid_column": null,
      "grid_gap": null,
      "grid_row": null,
      "grid_template_areas": null,
      "grid_template_columns": null,
      "grid_template_rows": null,
      "height": null,
      "justify_content": null,
      "justify_items": null,
      "left": null,
      "margin": null,
      "max_height": null,
      "max_width": null,
      "min_height": null,
      "min_width": null,
      "object_fit": null,
      "object_position": null,
      "order": null,
      "overflow": null,
      "overflow_x": null,
      "overflow_y": null,
      "padding": null,
      "right": null,
      "top": null,
      "visibility": null,
      "width": null
     }
    },
    "037fb6317ceb46bdb0b69fb15c605932": {
     "model_module": "@jupyter-widgets/base",
     "model_name": "LayoutModel",
     "state": {
      "_model_module": "@jupyter-widgets/base",
      "_model_module_version": "1.2.0",
      "_model_name": "LayoutModel",
      "_view_count": null,
      "_view_module": "@jupyter-widgets/base",
      "_view_module_version": "1.2.0",
      "_view_name": "LayoutView",
      "align_content": null,
      "align_items": null,
      "align_self": null,
      "border": null,
      "bottom": null,
      "display": null,
      "flex": null,
      "flex_flow": null,
      "grid_area": null,
      "grid_auto_columns": null,
      "grid_auto_flow": null,
      "grid_auto_rows": null,
      "grid_column": null,
      "grid_gap": null,
      "grid_row": null,
      "grid_template_areas": null,
      "grid_template_columns": null,
      "grid_template_rows": null,
      "height": null,
      "justify_content": null,
      "justify_items": null,
      "left": null,
      "margin": null,
      "max_height": null,
      "max_width": null,
      "min_height": null,
      "min_width": null,
      "object_fit": null,
      "object_position": null,
      "order": null,
      "overflow": null,
      "overflow_x": null,
      "overflow_y": null,
      "padding": null,
      "right": null,
      "top": null,
      "visibility": null,
      "width": null
     }
    },
    "0a1cf81c400a464fa0bae640fa42fe97": {
     "model_module": "k3d",
     "model_name": "PlotModel",
     "state": {
      "_backend_version": "2.9.6",
      "_dom_classes": [],
      "_model_module": "k3d",
      "_model_module_version": "2.9.6",
      "_model_name": "PlotModel",
      "_view_count": null,
      "_view_module": "k3d",
      "_view_module_version": "2.9.6",
      "_view_name": "PlotView",
      "antialias": 3,
      "auto_rendering": true,
      "axes": [
       "x",
       "y",
       "z"
      ],
      "axes_helper": 1,
      "background_color": 16777215,
      "camera": [
       2,
       -3,
       0.2,
       0,
       0,
       0,
       0,
       0,
       1
      ],
      "camera_animation": [],
      "camera_auto_fit": true,
      "camera_fov": 60,
      "camera_mode": "trackball",
      "camera_no_pan": false,
      "camera_no_rotate": false,
      "camera_no_zoom": false,
      "camera_pan_speed": 0.3,
      "camera_rotate_speed": 1,
      "camera_zoom_speed": 1.2,
      "clipping_planes": [],
      "colorbar_object_id": -1,
      "colorbar_scientific": false,
      "fps": 25,
      "fps_meter": false,
      "grid": [
       -0.55,
       -0.55,
       -0.55,
       0.55,
       0.55,
       0.55
      ],
      "grid_auto_fit": true,
      "grid_color": 15132390,
      "grid_visible": false,
      "height": 512,
      "layout": "IPY_MODEL_8a8d3187a0934552bcb904fc91416a19",
      "lighting": 1.5,
      "manipulate_mode": "translate",
      "menu_visibility": true,
      "mode": "view",
      "name": "occupancy_grid",
      "object_ids": [
       140686175152080
      ],
      "rendering_steps": 1,
      "screenshot": "",
      "screenshot_scale": 2,
      "snapshot": "",
      "snapshot_include_js": true,
      "time": 0,
      "voxel_paint_color": 0
     }
    },
    "1098ba00e1c14862852c423f45f716a8": {
     "model_module": "@jupyter-widgets/output",
     "model_name": "OutputModel",
     "state": {
      "_dom_classes": [],
      "_model_module": "@jupyter-widgets/output",
      "_model_module_version": "1.0.0",
      "_model_name": "OutputModel",
      "_view_count": null,
      "_view_module": "@jupyter-widgets/output",
      "_view_module_version": "1.0.0",
      "_view_name": "OutputView",
      "layout": "IPY_MODEL_6cc2750a9f324ee1a83cfc77f8d3fcb5",
      "msg_id": "",
      "outputs": [
       {
        "application/vnd.jupyter.widget-view+json": {
         "model_id": "5ad171948ba24526ab9a85580bf2aca5",
         "version_major": 2,
         "version_minor": 0
        },
        "metadata": {
         "tags": []
        },
        "output_type": "display_data",
        "text/plain": "Plot(antialias=3, axes=['x', 'y', 'z'], axes_helper=1.0, background_color=16777215, camera=[2, -3, 0.2, 0.0, 0…"
       }
      ]
     }
    },
    "1234b6aa814746fdbbb6492eafb31d36": {
     "model_module": "@jupyter-widgets/output",
     "model_name": "OutputModel",
     "state": {
      "_dom_classes": [],
      "_model_module": "@jupyter-widgets/output",
      "_model_module_version": "1.0.0",
      "_model_name": "OutputModel",
      "_view_count": null,
      "_view_module": "@jupyter-widgets/output",
      "_view_module_version": "1.0.0",
      "_view_name": "OutputView",
      "layout": "IPY_MODEL_037fb6317ceb46bdb0b69fb15c605932",
      "msg_id": "",
      "outputs": [
       {
        "application/vnd.jupyter.widget-view+json": {
         "model_id": "76256a0bc8a94c118267285707198313",
         "version_major": 2,
         "version_minor": 0
        },
        "metadata": {
         "tags": []
        },
        "output_type": "display_data",
        "text/plain": "Plot(antialias=3, axes=['x', 'y', 'z'], axes_helper=1.0, background_color=16777215, camera=[2, -3, 0.2, 0.0, 0…"
       }
      ]
     }
    },
    "47309d8360d147f4bd7bbc74aff08bd9": {
     "model_module": "@jupyter-widgets/output",
     "model_name": "OutputModel",
     "state": {
      "_dom_classes": [],
      "_model_module": "@jupyter-widgets/output",
      "_model_module_version": "1.0.0",
      "_model_name": "OutputModel",
      "_view_count": null,
      "_view_module": "@jupyter-widgets/output",
      "_view_module_version": "1.0.0",
      "_view_name": "OutputView",
      "layout": "IPY_MODEL_fec48fdb383946078dc0c6be72d97937",
      "msg_id": "",
      "outputs": [
       {
        "application/vnd.jupyter.widget-view+json": {
         "model_id": "0a1cf81c400a464fa0bae640fa42fe97",
         "version_major": 2,
         "version_minor": 0
        },
        "metadata": {
         "tags": []
        },
        "output_type": "display_data",
        "text/plain": "Plot(antialias=3, axes=['x', 'y', 'z'], axes_helper=1.0, background_color=16777215, camera=[2, -3, 0.2, 0.0, 0…"
       }
      ]
     }
    },
    "5ad171948ba24526ab9a85580bf2aca5": {
     "model_module": "k3d",
     "model_name": "PlotModel",
     "state": {
      "_backend_version": "2.9.6",
      "_dom_classes": [],
      "_model_module": "k3d",
      "_model_module_version": "2.9.6",
      "_model_name": "PlotModel",
      "_view_count": null,
      "_view_module": "k3d",
      "_view_module_version": "2.9.6",
      "_view_name": "PlotView",
      "antialias": 3,
      "auto_rendering": true,
      "axes": [
       "x",
       "y",
       "z"
      ],
      "axes_helper": 1,
      "background_color": 16777215,
      "camera": [
       2,
       -3,
       0.2,
       0,
       0,
       0,
       0,
       0,
       1
      ],
      "camera_animation": [],
      "camera_auto_fit": true,
      "camera_fov": 60,
      "camera_mode": "trackball",
      "camera_no_pan": false,
      "camera_no_rotate": false,
      "camera_no_zoom": false,
      "camera_pan_speed": 0.3,
      "camera_rotate_speed": 1,
      "camera_zoom_speed": 1.2,
      "clipping_planes": [],
      "colorbar_object_id": -1,
      "colorbar_scientific": false,
      "fps": 25,
      "fps_meter": false,
      "grid": [
       -0.55,
       -0.55,
       -0.55,
       0.55,
       0.55,
       0.55
      ],
      "grid_auto_fit": true,
      "grid_color": 15132390,
      "grid_visible": false,
      "height": 512,
      "layout": "IPY_MODEL_a1ad778eba1f45f9b08d5cd701faa1f7",
      "lighting": 1.5,
      "manipulate_mode": "translate",
      "menu_visibility": true,
      "mode": "view",
      "name": "occupancy_grid",
      "object_ids": [
       140687325170576
      ],
      "rendering_steps": 1,
      "screenshot": "",
      "screenshot_scale": 2,
      "snapshot": "",
      "snapshot_include_js": true,
      "time": 0,
      "voxel_paint_color": 0
     }
    },
    "5f379a982f8745b3bbbb61db3ac4e95c": {
     "model_module": "@jupyter-widgets/output",
     "model_name": "OutputModel",
     "state": {
      "_dom_classes": [],
      "_model_module": "@jupyter-widgets/output",
      "_model_module_version": "1.0.0",
      "_model_name": "OutputModel",
      "_view_count": null,
      "_view_module": "@jupyter-widgets/output",
      "_view_module_version": "1.0.0",
      "_view_name": "OutputView",
      "layout": "IPY_MODEL_03441753ec944819b39db0786ef8b21a",
      "msg_id": "",
      "outputs": [
       {
        "application/vnd.jupyter.widget-view+json": {
         "model_id": "d38799efcc46468c8740dcfe64861fc6",
         "version_major": 2,
         "version_minor": 0
        },
        "metadata": {
         "tags": []
        },
        "output_type": "display_data",
        "text/plain": "Plot(antialias=3, axes=['x', 'y', 'z'], axes_helper=1.0, background_color=16777215, camera=[2, -3, 0.2, 0.0, 0…"
       }
      ]
     }
    },
    "6cc2750a9f324ee1a83cfc77f8d3fcb5": {
     "model_module": "@jupyter-widgets/base",
     "model_name": "LayoutModel",
     "state": {
      "_model_module": "@jupyter-widgets/base",
      "_model_module_version": "1.2.0",
      "_model_name": "LayoutModel",
      "_view_count": null,
      "_view_module": "@jupyter-widgets/base",
      "_view_module_version": "1.2.0",
      "_view_name": "LayoutView",
      "align_content": null,
      "align_items": null,
      "align_self": null,
      "border": null,
      "bottom": null,
      "display": null,
      "flex": null,
      "flex_flow": null,
      "grid_area": null,
      "grid_auto_columns": null,
      "grid_auto_flow": null,
      "grid_auto_rows": null,
      "grid_column": null,
      "grid_gap": null,
      "grid_row": null,
      "grid_template_areas": null,
      "grid_template_columns": null,
      "grid_template_rows": null,
      "height": null,
      "justify_content": null,
      "justify_items": null,
      "left": null,
      "margin": null,
      "max_height": null,
      "max_width": null,
      "min_height": null,
      "min_width": null,
      "object_fit": null,
      "object_position": null,
      "order": null,
      "overflow": null,
      "overflow_x": null,
      "overflow_y": null,
      "padding": null,
      "right": null,
      "top": null,
      "visibility": null,
      "width": null
     }
    },
    "759458e367534046b9735ed70d4b5a52": {
     "model_module": "@jupyter-widgets/output",
     "model_name": "OutputModel",
     "state": {
      "_dom_classes": [],
      "_model_module": "@jupyter-widgets/output",
      "_model_module_version": "1.0.0",
      "_model_name": "OutputModel",
      "_view_count": null,
      "_view_module": "@jupyter-widgets/output",
      "_view_module_version": "1.0.0",
      "_view_name": "OutputView",
      "layout": "IPY_MODEL_b2f045002f1d4df3adc6b0c16001b8ac",
      "msg_id": "",
      "outputs": [
       {
        "application/vnd.jupyter.widget-view+json": {
         "model_id": "cdf0c1c24e5a4abb9dac0947ca0ff4cc",
         "version_major": 2,
         "version_minor": 0
        },
        "metadata": {
         "tags": []
        },
        "output_type": "display_data",
        "text/plain": "Plot(antialias=3, axes=['x', 'y', 'z'], axes_helper=1.0, background_color=16777215, camera=[2, -3, 0.2, 0.0, 0…"
       }
      ]
     }
    },
    "76256a0bc8a94c118267285707198313": {
     "model_module": "k3d",
     "model_name": "PlotModel",
     "state": {
      "_backend_version": "2.9.6",
      "_dom_classes": [],
      "_model_module": "k3d",
      "_model_module_version": "2.9.6",
      "_model_name": "PlotModel",
      "_view_count": null,
      "_view_module": "k3d",
      "_view_module_version": "2.9.6",
      "_view_name": "PlotView",
      "antialias": 3,
      "auto_rendering": true,
      "axes": [
       "x",
       "y",
       "z"
      ],
      "axes_helper": 1,
      "background_color": 16777215,
      "camera": [
       2,
       -3,
       0.2,
       0,
       0,
       0,
       0,
       0,
       1
      ],
      "camera_animation": [],
      "camera_auto_fit": true,
      "camera_fov": 60,
      "camera_mode": "trackball",
      "camera_no_pan": false,
      "camera_no_rotate": false,
      "camera_no_zoom": false,
      "camera_pan_speed": 0.3,
      "camera_rotate_speed": 1,
      "camera_zoom_speed": 1.2,
      "clipping_planes": [],
      "colorbar_object_id": -1,
      "colorbar_scientific": false,
      "fps": 25,
      "fps_meter": false,
      "grid": [
       -0.55,
       -0.55,
       -0.55,
       0.55,
       0.55,
       0.55
      ],
      "grid_auto_fit": true,
      "grid_color": 15132390,
      "grid_visible": false,
      "height": 512,
      "layout": "IPY_MODEL_fef505b319f2425db0ae07426a79f0bb",
      "lighting": 1.5,
      "manipulate_mode": "translate",
      "menu_visibility": true,
      "mode": "view",
      "name": "occupancy_grid",
      "object_ids": [
       140686171657296
      ],
      "rendering_steps": 1,
      "screenshot": "",
      "screenshot_scale": 2,
      "snapshot": "",
      "snapshot_include_js": true,
      "time": 0,
      "voxel_paint_color": 0
     }
    },
    "981ebb4e6e9b424abf8b996688353163": {
     "model_module": "k3d",
     "model_name": "PlotModel",
     "state": {
      "_backend_version": "2.9.6",
      "_dom_classes": [],
      "_model_module": "k3d",
      "_model_module_version": "2.9.6",
      "_model_name": "PlotModel",
      "_view_count": null,
      "_view_module": "k3d",
      "_view_module_version": "2.9.6",
      "_view_name": "PlotView",
      "antialias": 3,
      "auto_rendering": true,
      "axes": [
       "x",
       "y",
       "z"
      ],
      "axes_helper": 1,
      "background_color": 16777215,
      "camera": [
       2,
       -3,
       0.2,
       0,
       0,
       0,
       0,
       0,
       1
      ],
      "camera_animation": [],
      "camera_auto_fit": true,
      "camera_fov": 60,
      "camera_mode": "trackball",
      "camera_no_pan": false,
      "camera_no_rotate": false,
      "camera_no_zoom": false,
      "camera_pan_speed": 0.3,
      "camera_rotate_speed": 1,
      "camera_zoom_speed": 1.2,
      "clipping_planes": [],
      "colorbar_object_id": -1,
      "colorbar_scientific": false,
      "fps": 25,
      "fps_meter": false,
      "grid": [
       -0.55,
       -0.55,
       -0.55,
       0.55,
       0.55,
       0.55
      ],
      "grid_auto_fit": true,
      "grid_color": 15132390,
      "grid_visible": false,
      "height": 512,
      "layout": "IPY_MODEL_c13f501068824bfba77366526ffe175d",
      "lighting": 1.5,
      "manipulate_mode": "translate",
      "menu_visibility": true,
      "mode": "view",
      "name": "occupancy_grid",
      "object_ids": [
       140686166984080
      ],
      "rendering_steps": 1,
      "screenshot": "",
      "screenshot_scale": 2,
      "snapshot": "",
      "snapshot_include_js": true,
      "time": 0,
      "voxel_paint_color": 0
     }
    },
    "9828f512e01f4e148acf0a84bf6fea7e": {
     "model_module": "@jupyter-widgets/output",
     "model_name": "OutputModel",
     "state": {
      "_dom_classes": [],
      "_model_module": "@jupyter-widgets/output",
      "_model_module_version": "1.0.0",
      "_model_name": "OutputModel",
      "_view_count": null,
      "_view_module": "@jupyter-widgets/output",
      "_view_module_version": "1.0.0",
      "_view_name": "OutputView",
      "layout": "IPY_MODEL_b02be034ff73431e83e491d7cee0e686",
      "msg_id": "",
      "outputs": [
       {
        "application/vnd.jupyter.widget-view+json": {
         "model_id": "981ebb4e6e9b424abf8b996688353163",
         "version_major": 2,
         "version_minor": 0
        },
        "metadata": {
         "tags": []
        },
        "output_type": "display_data",
        "text/plain": "Plot(antialias=3, axes=['x', 'y', 'z'], axes_helper=1.0, background_color=16777215, camera=[2, -3, 0.2, 0.0, 0…"
       }
      ]
     }
    },
    "b02be034ff73431e83e491d7cee0e686": {
     "model_module": "@jupyter-widgets/base",
     "model_name": "LayoutModel",
     "state": {
      "_model_module": "@jupyter-widgets/base",
      "_model_module_version": "1.2.0",
      "_model_name": "LayoutModel",
      "_view_count": null,
      "_view_module": "@jupyter-widgets/base",
      "_view_module_version": "1.2.0",
      "_view_name": "LayoutView",
      "align_content": null,
      "align_items": null,
      "align_self": null,
      "border": null,
      "bottom": null,
      "display": null,
      "flex": null,
      "flex_flow": null,
      "grid_area": null,
      "grid_auto_columns": null,
      "grid_auto_flow": null,
      "grid_auto_rows": null,
      "grid_column": null,
      "grid_gap": null,
      "grid_row": null,
      "grid_template_areas": null,
      "grid_template_columns": null,
      "grid_template_rows": null,
      "height": null,
      "justify_content": null,
      "justify_items": null,
      "left": null,
      "margin": null,
      "max_height": null,
      "max_width": null,
      "min_height": null,
      "min_width": null,
      "object_fit": null,
      "object_position": null,
      "order": null,
      "overflow": null,
      "overflow_x": null,
      "overflow_y": null,
      "padding": null,
      "right": null,
      "top": null,
      "visibility": null,
      "width": null
     }
    },
    "b2f045002f1d4df3adc6b0c16001b8ac": {
     "model_module": "@jupyter-widgets/base",
     "model_name": "LayoutModel",
     "state": {
      "_model_module": "@jupyter-widgets/base",
      "_model_module_version": "1.2.0",
      "_model_name": "LayoutModel",
      "_view_count": null,
      "_view_module": "@jupyter-widgets/base",
      "_view_module_version": "1.2.0",
      "_view_name": "LayoutView",
      "align_content": null,
      "align_items": null,
      "align_self": null,
      "border": null,
      "bottom": null,
      "display": null,
      "flex": null,
      "flex_flow": null,
      "grid_area": null,
      "grid_auto_columns": null,
      "grid_auto_flow": null,
      "grid_auto_rows": null,
      "grid_column": null,
      "grid_gap": null,
      "grid_row": null,
      "grid_template_areas": null,
      "grid_template_columns": null,
      "grid_template_rows": null,
      "height": null,
      "justify_content": null,
      "justify_items": null,
      "left": null,
      "margin": null,
      "max_height": null,
      "max_width": null,
      "min_height": null,
      "min_width": null,
      "object_fit": null,
      "object_position": null,
      "order": null,
      "overflow": null,
      "overflow_x": null,
      "overflow_y": null,
      "padding": null,
      "right": null,
      "top": null,
      "visibility": null,
      "width": null
     }
    },
    "cdf0c1c24e5a4abb9dac0947ca0ff4cc": {
     "model_module": "k3d",
     "model_name": "PlotModel",
     "state": {
      "_backend_version": "2.9.6",
      "_dom_classes": [],
      "_model_module": "k3d",
      "_model_module_version": "2.9.6",
      "_model_name": "PlotModel",
      "_view_count": null,
      "_view_module": "k3d",
      "_view_module_version": "2.9.6",
      "_view_name": "PlotView",
      "antialias": 3,
      "auto_rendering": true,
      "axes": [
       "x",
       "y",
       "z"
      ],
      "axes_helper": 1,
      "background_color": 16777215,
      "camera": [
       2,
       -3,
       0.2,
       0,
       0,
       0,
       0,
       0,
       1
      ],
      "camera_animation": [],
      "camera_auto_fit": true,
      "camera_fov": 60,
      "camera_mode": "trackball",
      "camera_no_pan": false,
      "camera_no_rotate": false,
      "camera_no_zoom": false,
      "camera_pan_speed": 0.3,
      "camera_rotate_speed": 1,
      "camera_zoom_speed": 1.2,
      "clipping_planes": [],
      "colorbar_object_id": -1,
      "colorbar_scientific": false,
      "fps": 25,
      "fps_meter": false,
      "grid": [
       -0.55,
       -0.55,
       -0.55,
       0.55,
       0.55,
       0.55
      ],
      "grid_auto_fit": true,
      "grid_color": 15132390,
      "grid_visible": false,
      "height": 512,
      "layout": "IPY_MODEL_80680e5ab2be4152add3fd3c35ec5238",
      "lighting": 1.5,
      "manipulate_mode": "translate",
      "menu_visibility": true,
      "mode": "view",
      "name": "occupancy_grid",
      "object_ids": [
       140686167678032
      ],
      "rendering_steps": 1,
      "screenshot": "",
      "screenshot_scale": 2,
      "snapshot": "",
      "snapshot_include_js": true,
      "time": 0,
      "voxel_paint_color": 0
     }
    },
    "d38799efcc46468c8740dcfe64861fc6": {
     "model_module": "k3d",
     "model_name": "PlotModel",
     "state": {
      "_backend_version": "2.9.6",
      "_dom_classes": [],
      "_model_module": "k3d",
      "_model_module_version": "2.9.6",
      "_model_name": "PlotModel",
      "_view_count": null,
      "_view_module": "k3d",
      "_view_module_version": "2.9.6",
      "_view_name": "PlotView",
      "antialias": 3,
      "auto_rendering": true,
      "axes": [
       "x",
       "y",
       "z"
      ],
      "axes_helper": 1,
      "background_color": 16777215,
      "camera": [
       2,
       -3,
       0.2,
       0,
       0,
       0,
       0,
       0,
       1
      ],
      "camera_animation": [],
      "camera_auto_fit": true,
      "camera_fov": 60,
      "camera_mode": "trackball",
      "camera_no_pan": false,
      "camera_no_rotate": false,
      "camera_no_zoom": false,
      "camera_pan_speed": 0.3,
      "camera_rotate_speed": 1,
      "camera_zoom_speed": 1.2,
      "clipping_planes": [],
      "colorbar_object_id": -1,
      "colorbar_scientific": false,
      "fps": 25,
      "fps_meter": false,
      "grid": [
       -0.55,
       -0.55,
       -0.55,
       0.55,
       0.55,
       0.55
      ],
      "grid_auto_fit": true,
      "grid_color": 15132390,
      "grid_visible": false,
      "height": 512,
      "layout": "IPY_MODEL_565919d1d0614772842b41ca5893c23a",
      "lighting": 1.5,
      "manipulate_mode": "translate",
      "menu_visibility": true,
      "mode": "view",
      "name": "point_cloud",
      "object_ids": [
       140687339042384
      ],
      "rendering_steps": 1,
      "screenshot": "",
      "screenshot_scale": 2,
      "snapshot": "",
      "snapshot_include_js": true,
      "time": 0,
      "voxel_paint_color": 0
     }
    },
    "fec48fdb383946078dc0c6be72d97937": {
     "model_module": "@jupyter-widgets/base",
     "model_name": "LayoutModel",
     "state": {
      "_model_module": "@jupyter-widgets/base",
      "_model_module_version": "1.2.0",
      "_model_name": "LayoutModel",
      "_view_count": null,
      "_view_module": "@jupyter-widgets/base",
      "_view_module_version": "1.2.0",
      "_view_name": "LayoutView",
      "align_content": null,
      "align_items": null,
      "align_self": null,
      "border": null,
      "bottom": null,
      "display": null,
      "flex": null,
      "flex_flow": null,
      "grid_area": null,
      "grid_auto_columns": null,
      "grid_auto_flow": null,
      "grid_auto_rows": null,
      "grid_column": null,
      "grid_gap": null,
      "grid_row": null,
      "grid_template_areas": null,
      "grid_template_columns": null,
      "grid_template_rows": null,
      "height": null,
      "justify_content": null,
      "justify_items": null,
      "left": null,
      "margin": null,
      "max_height": null,
      "max_width": null,
      "min_height": null,
      "min_width": null,
      "object_fit": null,
      "object_position": null,
      "order": null,
      "overflow": null,
      "overflow_x": null,
      "overflow_y": null,
      "padding": null,
      "right": null,
      "top": null,
      "visibility": null,
      "width": null
     }
    }
   }
  }
 },
 "nbformat": 4,
 "nbformat_minor": 1
}
